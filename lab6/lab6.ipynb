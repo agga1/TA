{
 "cells": [
  {
   "cell_type": "markdown",
   "metadata": {},
   "source": [
    "<a id='top'></a>\n",
    "Agnieszka Dutka\n",
    "# Laboratory 6 -  Karp-Miller-Rosenberg algorithm\n",
    "\n",
    "Contents:  \n",
    "[0. KMP and Suffix Tree implementations](#0)  \n",
    "[1. Dictionary of basic factors](#1)   \n",
    "[2. KMR algorithm](#2)  \n",
    "[3. DBF vs Suffix tree Construction time](#3)   \n",
    "[4. Real DBF size compared to file size](#4)  \n",
    "[5. DBF vs KMP search times comparison](#5)  \n",
    " \n"
   ]
  },
  {
   "cell_type": "markdown",
   "metadata": {},
   "source": [
    "<a id='0'></a>\n",
    "## Suffix Tree\n",
    "\n",
    "__Structures__"
   ]
  },
  {
   "cell_type": "code",
   "execution_count": 3,
   "metadata": {},
   "outputs": [],
   "source": [
    "class TreeNode:\n",
    "    \"\"\" Node of Suffix Tree of text @text, representing indexes [@first, @last) \"\"\"\n",
    "    def __init__(self, text, first=0, last=0, parent=None): # defaults for root\n",
    "        self.first = first\n",
    "        self.last = last\n",
    "        self.text = text # whole text\n",
    "        self.parent = parent\n",
    "        self.children = {}\n",
    "        self.slink = None\n",
    "         \n",
    "    @property\n",
    "    def length(self):\n",
    "        return self.last - self.first       \n",
    "    \n",
    "    @property\n",
    "    def label(self):\n",
    "        return self.text[self.first : self.last]\n",
    "    \n",
    "    def add(self, first: int, last: int):\n",
    "        child = TreeNode(self.text, first, last, self)\n",
    "        self.children[self.text[first]] = child # add new child to parent\n",
    "        return child\n",
    "    \n",
    "    def split(self, offset):\n",
    "        new_parent_last = self.first+offset\n",
    "        new_parent = TreeNode(self.text, self.first, new_parent_last, self.parent)\n",
    "        new_parent.children[self.text[new_parent_last]] = self\n",
    "        self.parent.children[self.text[self.first]] = new_parent # change child\n",
    "        self.first = new_parent_last\n",
    "        self.parent = new_parent\n",
    "        return new_parent\n",
    "        \n",
    "    def child(self, c):\n",
    "        return self.children.get(c, None)\n",
    "    \n",
    "    def find(self, word: list):\n",
    "        if word is None:\n",
    "            return True\n",
    "        child = self.child(word[0])\n",
    "        if child is None:\n",
    "            return False\n",
    "        offset = 1\n",
    "        while offset < min(len(word), child.length):\n",
    "            if word[offset] != child.label[offset]:\n",
    "                return False\n",
    "            offset += 1\n",
    "        if offset == len(word):\n",
    "            return True\n",
    "        return child.find(word[offset:])\n",
    "    \n",
    "    def __str__(self, indent=0): # recursive display\n",
    "        return '%s%s\\n%s' % (indent * '  ', self.label, ''.join(\n",
    "                child.__str__(indent + 1)\n",
    "                for key, child in sorted(self.children.items())\n",
    "            )\n",
    "        )\n"
   ]
  },
  {
   "cell_type": "markdown",
   "metadata": {},
   "source": [
    "#### McCreight algorithm for Suffix Tree"
   ]
  },
  {
   "cell_type": "code",
   "execution_count": 4,
   "metadata": {},
   "outputs": [],
   "source": [
    "def slow_find(node, first: int, last: int) -> (TreeNode, TreeNode):\n",
    "    \"\"\" inserts [first, last) into suffix tree starting with @node searching letter by letter.\n",
    "    @node: represents the potential head in each loop. \n",
    "    @return: head and added leaf \"\"\"\n",
    "    text = node.text\n",
    "    offset = 0  # where exactly in the current node we are (offset from node.first)\n",
    "    while node.child(text[first])  is not None: # looking for child with same first char \n",
    "        node = node.child(text[first]) # enter the child\n",
    "        while node.first + offset < node.last and first<len(text): # traverse nodes letters\n",
    "            if text[first] == text[node.first + offset]:\n",
    "                offset += 1\n",
    "                first += 1\n",
    "            else:  # we're in the middle of the node\n",
    "                node = node.split(offset) #CHANGED\n",
    "                leaf = node.add(first, last)\n",
    "                return node, leaf\n",
    "        offset = 0\n",
    "    leaf = node.add(first, last)\n",
    "    return node, leaf\n",
    "\n",
    "def fast_find(node, first: int , last: int) -> (TreeNode, int):\n",
    "    \"\"\" returns furthest node on path [first, lasts) and length it occupies in this node \n",
    "    e.g: given: abaabb path: (ab)(aab)b -> node(aab), length=3\"\"\"\n",
    "    assert node is not None\n",
    "    text = node.text\n",
    "    length = last - first\n",
    "    if length == 0:\n",
    "        return node, length\n",
    "    node = node.child(text[first])\n",
    "    while length > node.length: # skip entire node\n",
    "        first += node.length\n",
    "        length -= node.length\n",
    "        node = node.child(text[first])\n",
    "    return node, length\n",
    "\n",
    "def McCreight(text):\n",
    "    text_len = len(text)\n",
    "    root = TreeNode(text)\n",
    "    old_head = root\n",
    "    leaf = root.add(0, text_len)\n",
    "    for curr_i in range(1, text_len):\n",
    "        if old_head == root:    # new suffix to attach = old leaf [1:]\n",
    "            old_head, leaf = slow_find(root, leaf.first + 1, leaf.last)\n",
    "            continue\n",
    "        parent = old_head.parent\n",
    "        if parent == root:      # find \"highest\" slink (aX - X) where oldHead = aX\n",
    "            head_slink, h_len = fast_find(parent, old_head.first + 1, old_head.last)\n",
    "        else:                   # find some lower slink (B-B)\n",
    "            head_slink, h_len = fast_find(parent.slink, old_head.first, old_head.last)\n",
    "        if h_len < head_slink.length: # actual head_slink ends in the middle of current head_slink\n",
    "            head_slink = head_slink.split(h_len) # CHANGED\n",
    "            new_head = head_slink\n",
    "            leaf = new_head.add(leaf.first, leaf.last) # copy leaf \n",
    "        else:                   # head_slink is a node and has other children already - traverse children\n",
    "            new_head, leaf = slow_find(head_slink, leaf.first, leaf.last)\n",
    "        old_head.slink = head_slink # = head_slink\n",
    "        old_head = new_head\n",
    "\n",
    "    return root"
   ]
  },
  {
   "cell_type": "markdown",
   "metadata": {},
   "source": [
    "## Knuth-Morris-Pratt algorithm\n",
    "[back to top](#top) "
   ]
  },
  {
   "cell_type": "code",
   "execution_count": 5,
   "metadata": {},
   "outputs": [],
   "source": [
    "def prefix_function(pattern):\n",
    "    pi = [0]\n",
    "    k = 0\n",
    "    for q in range(1, len(pattern)):\n",
    "        while(k > 0 and pattern[k] != pattern[q]):\n",
    "            k = pi[k-1]\n",
    "        if(pattern[k] == pattern[q]):\n",
    "            k = k + 1\n",
    "        pi.append(k)\n",
    "    return pi\n",
    "\n",
    "def kmp_string_matching(text, pattern, pi): \n",
    "    \"\"\" returns positions of found patterns \"\"\"\n",
    "    q = 0\n",
    "    pos = []\n",
    "    for i in range(0, len(text)):\n",
    "        while(q > 0 and pattern[q] != text[i]):\n",
    "            q = pi[q-1]\n",
    "        if(pattern[q] == text[i]):\n",
    "            q = q + 1\n",
    "        if(q == len(pattern)):\n",
    "            pos.append(i+1-len(pattern))\n",
    "            q = pi[q-1]\n",
    "    return pos\n",
    "\n",
    "def kmp_search(pattern, text):\n",
    "    pi = prefix_function(pattern)\n",
    "    return kmp_string_matching(text, pattern, pi)"
   ]
  },
  {
   "cell_type": "markdown",
   "metadata": {},
   "source": [
    "<a id='1'></a>\n",
    "## 1. DBF\n",
    "[back to top](#top) "
   ]
  },
  {
   "cell_type": "code",
   "execution_count": 6,
   "metadata": {},
   "outputs": [],
   "source": [
    "def sort_rename(sequence):\n",
    "    last_entry = None\n",
    "    index = 0\n",
    "    pos_to_idx=[None]*len(sequence)\n",
    "    first_entry={}\n",
    "    for entry in sorted([(e,i)for i,e in enumerate(sequence)]):\n",
    "        if(last_entry and last_entry[0] != entry[0]):\n",
    "            index += 1\n",
    "            first_entry[index]=entry[1]\n",
    "        pos_to_idx[entry[1]]=index\n",
    "        if last_entry is None:\n",
    "            first_entry[0] = entry[1]\n",
    "        last_entry = entry\n",
    "    return pos_to_idx, first_entry"
   ]
  },
  {
   "attachments": {
    "image.png": {
     "image/png": "[encoded data removed]"
    }
   },
   "cell_type": "markdown",
   "metadata": {},
   "source": [
    "<a id='2'></a>\n",
    "[back to top](#top) \n",
    "## 2. KMR algorithm\n",
    "\n",
    "based on the fact that:\n",
    "![image.png](attachment:image.png)"
   ]
  },
  {
   "cell_type": "code",
   "execution_count": 137,
   "metadata": {},
   "outputs": [],
   "source": [
    "import math\n",
    "\n",
    "def kmr(text):\n",
    "    txt_len = len(text)\n",
    "    factor = math.floor(math.log2(txt_len))\n",
    "    max_len = 2**factor\n",
    "    padding_len = 2**(factor+1)-1\n",
    "    text += \"z\"*padding_len\n",
    "    \n",
    "    pos_to_idx, first_entry = sort_rename(list(text))\n",
    "    names = {1: pos_to_idx}\n",
    "    entries = {1: first_entry}\n",
    "    for i in range(1, factor):\n",
    "        power = 2**(i-1)\n",
    "        new_seq = []\n",
    "        for j in range(len(text)):\n",
    "            if j+power < len(names[power]):\n",
    "                new_seq.append((names[power][j], names[power][j+power]))\n",
    "        pos_to_idx, first_entry = sort_rename(new_seq)\n",
    "        names[power*2] = pos_to_idx\n",
    "        entries[power*2] = first_entry\n",
    "    return names, entries\n",
    "\n",
    "\n",
    "# simple patern finding using kmr\n",
    "def kmr_search(pattern, text): \n",
    "    names, entries = kmr(pattern+\"&\"+text)\n",
    "    matches = []\n",
    "    if len(pattern) in names.keys():\n",
    "        name2 = names[len(pattern)]\n",
    "        for i, val  in enumerate(name2[len(pattern)+1:]):\n",
    "            if val == name2[0]:\n",
    "                matches.append(i)\n",
    "    else:\n",
    "        factor = math.floor(math.log2(len(pattern)))\n",
    "        closest_power = 2**factor\n",
    "        name2 = names[closest_power]\n",
    "        diff = len(pattern) - closest_power\n",
    "        for i, val  in enumerate(name2[len(pattern)+1:]):\n",
    "            if val == name2[0] and name2[diff] == name2[len(pattern)+1+i+diff]:\n",
    "                matches.append(i)\n",
    "    return matches\n"
   ]
  },
  {
   "cell_type": "markdown",
   "metadata": {},
   "source": [
    "### Quick KMR search"
   ]
  },
  {
   "cell_type": "code",
   "execution_count": 138,
   "metadata": {},
   "outputs": [],
   "source": [
    "def find_label(names, entries, text, pattern):\n",
    "    # pad text\n",
    "    txt_len = len(text)\n",
    "    factor = math.floor(math.log2(txt_len))\n",
    "    max_len = 2**factor\n",
    "    padding_len = 2**(factor+1)-1\n",
    "    text += \"z\"*padding_len\n",
    "    # perform binary search to find label or return none\n",
    "    labels = [i for i in entries.keys()]\n",
    "    i, j = 0, len(labels)\n",
    "    while i+1 < j:\n",
    "        mid = (i+j)//2\n",
    "        idx = entries[mid]\n",
    "        mid_label = text[idx:idx+len(pattern)]\n",
    "        if(mid_label == pattern):\n",
    "            return mid\n",
    "        if mid_label > pattern:\n",
    "            j = mid\n",
    "        else:\n",
    "            i = mid\n",
    "    idx = entries[mid-1]\n",
    "    mid_label = text[idx:idx+len(pattern)]\n",
    "    if(mid_label == pattern):\n",
    "        return mid-1\n",
    "    return -1\n",
    "\n",
    "def quick_kmr_search(text_kmr, text, pattern):\n",
    "    \"\"\" quicker version of kmr algorithm, not requiring building new DBF for pat&text\"\"\"\n",
    "    \n",
    "    names, entries = text_kmr\n",
    "    if len(pattern) in names.keys(): # pattern is power of 2\n",
    "        names, entries = names[len(pattern)], entries[len(pattern)]\n",
    "        labels = [find_label(names, entries, text, pattern)]\n",
    "        # search for label\n",
    "    else:\n",
    "        factor = math.floor(math.log2(len(pattern)))\n",
    "        closest_power = 2**factor\n",
    "        diff = len(pattern) - closest_power\n",
    "        names, entries = names[closest_power], entries[closest_power]\n",
    "        labels = [find_label(names, entries, text, pattern[:closest_power]),\n",
    "                  find_label(names, entries, text, pattern[-closest_power:])]\n",
    "    for label in labels:\n",
    "        if(label == -1):\n",
    "            return []\n",
    "    matches = []\n",
    "    for i, val  in enumerate(names):\n",
    "            if val == labels[0]:\n",
    "                if len(labels) == 1 or names[i+diff] == labels[1]:\n",
    "                    matches.append(i)\n",
    "    return matches\n",
    "        "
   ]
  },
  {
   "cell_type": "markdown",
   "metadata": {},
   "source": [
    "__Test run__"
   ]
  },
  {
   "cell_type": "code",
   "execution_count": 139,
   "metadata": {},
   "outputs": [
    {
     "name": "stdout",
     "output_type": "stream",
     "text": [
      "names:\n",
      "1 [1, 1, 2, 1, 1, 3, 3, 3, 4, 1, 1, 4, 1, 4]\n",
      "2 [1, 2, 5, 1, 3, 6, 6, 7, 8, 1, 4, 8, 4, 9]\n",
      "4 [1, 4, 8, 2, 5, 9, 10, 11, 12, 3, 6, 13, 7, 14]\n",
      "\n",
      "positions:\n",
      "1 [1, 3, 6, 9]\n",
      "2 [1, 2, 5, 11, 3, 6, 8, 9, 14]\n",
      "4 [1, 4, 10, 2, 5, 11, 13, 3, 6, 7, 8, 9, 12, 14]\n"
     ]
    }
   ],
   "source": [
    "text=\"aabaadddsaasas\"\n",
    "names, entries=kmr(text)\n",
    "print(\"names:\")\n",
    "for k,v in names.items():\n",
    "    print(k,[e+1 for e in v[:len(text)]])\n",
    "    \n",
    "print(\"\\npositions:\")\n",
    "for k,v in entries.items():\n",
    "    print(k,[v[e]+1 for e in range(len(v)-1)])"
   ]
  },
  {
   "cell_type": "code",
   "execution_count": 140,
   "metadata": {},
   "outputs": [
    {
     "name": "stdout",
     "output_type": "stream",
     "text": [
      "✓\n"
     ]
    }
   ],
   "source": [
    "text=\"babbaba\"\n",
    "assert kmr_search(\"ab\", text) == [1,4], print(\"✘\")\n",
    "print(\"✓\")"
   ]
  },
  {
   "cell_type": "markdown",
   "metadata": {},
   "source": [
    "<a id='3'></a>\n",
    "[back to top](#top)\n",
    "## 3. DBF vs Suffix tree Construction time"
   ]
  },
  {
   "cell_type": "code",
   "execution_count": 10,
   "metadata": {},
   "outputs": [],
   "source": [
    "from time import perf_counter\n",
    "\n",
    "def time_eval(func, args,name=None, count=2):\n",
    "    start = perf_counter()\n",
    "    res = None\n",
    "    for i in range(count):\n",
    "        res = func(*args)\n",
    "    end = perf_counter()\n",
    "    avg = (end-start)/count\n",
    "    if name is not None:\n",
    "        print(f\"{name} average time: {avg}\")\n",
    "        return\n",
    "    return avg, res "
   ]
  },
  {
   "cell_type": "code",
   "execution_count": 11,
   "metadata": {},
   "outputs": [],
   "source": [
    "def get_text(name):\n",
    "    f = open(name, \"r\", encoding='utf-8')\n",
    "    text = f.read()\n",
    "    text += chr(27) # unique character at the end\n",
    "    return text"
   ]
  },
  {
   "cell_type": "markdown",
   "metadata": {},
   "source": [
    "### Comparison for given texts"
   ]
  },
  {
   "cell_type": "code",
   "execution_count": 12,
   "metadata": {},
   "outputs": [
    {
     "name": "stdout",
     "output_type": "stream",
     "text": [
      "DBF average time: 0.020206449999989218\n",
      "Suffix tree average time: 0.0030264000000101987\n"
     ]
    }
   ],
   "source": [
    "text = get_text(\"zad6.txt\")\n",
    "\n",
    "time_eval(kmr, [text], \"DBF\")\n",
    "time_eval(McCreight, [text], \"Suffix tree\")"
   ]
  },
  {
   "cell_type": "code",
   "execution_count": 13,
   "metadata": {},
   "outputs": [
    {
     "name": "stdout",
     "output_type": "stream",
     "text": [
      "DBF average time: 0.5512747999999874\n",
      "Suffix tree average time: 0.07011264999999867\n"
     ]
    }
   ],
   "source": [
    "text = get_text(\"romeo-i-julia-700.txt\")\n",
    "\n",
    "time_eval(kmr, [text], \"DBF\")\n",
    "time_eval(McCreight, [text], \"Suffix tree\")"
   ]
  },
  {
   "cell_type": "code",
   "execution_count": 14,
   "metadata": {},
   "outputs": [
    {
     "name": "stdout",
     "output_type": "stream",
     "text": [
      "DBF average time: 17.533675599999924\n",
      "Suffix tree average time: 1.8186233999999786\n"
     ]
    }
   ],
   "source": [
    "text = get_text(\"1997_714.txt\")\n",
    "\n",
    "time_eval(kmr, [text], \"DBF\", count = 1)\n",
    "time_eval(McCreight, [text], \"Suffix tree\", count=1)"
   ]
  },
  {
   "cell_type": "markdown",
   "metadata": {},
   "source": [
    "<a id='4'></a>\n",
    "[back to top](#top)\n",
    "## 4. Real DBF size compared to file size"
   ]
  },
  {
   "cell_type": "code",
   "execution_count": 21,
   "metadata": {},
   "outputs": [],
   "source": [
    "import os\n",
    "import gc\n",
    "from sys import getsizeof\n",
    "from queue import Queue\n",
    "def get_file_size(filename):\n",
    "    size = os.stat(filename).st_size\n",
    "    print(f\"file size: {size}b\")\n",
    "    return size\n",
    "\n",
    "def get_struct_size(obj):\n",
    "    \"\"\" get real byte size of given object \"\"\"\n",
    "    size = 0\n",
    "    marked = {id(obj)}\n",
    "    q = [obj]\n",
    "    while q:\n",
    "        size += sum(map(getsizeof, q))\n",
    "        all_ref = ((id(o), o) for o in gc.get_referents(*q))\n",
    "        new_ref = {o_id: o for o_id, o in all_ref if o_id not in marked and not isinstance(o, type)}\n",
    "        q = new_ref.values()\n",
    "        marked.update(new_ref.keys())\n",
    "    print(f\"struct size: {size}b\")\n",
    "    return size"
   ]
  },
  {
   "cell_type": "code",
   "execution_count": 134,
   "metadata": {},
   "outputs": [
    {
     "name": "stdout",
     "output_type": "stream",
     "text": [
      "file size: 947b\n",
      "struct size: 264780b\n",
      "\n",
      "file size: 14208b\n",
      "struct size: 6580720b\n",
      "\n",
      "file size: 254133b\n",
      "struct size: 155564764b\n",
      "\n"
     ]
    }
   ],
   "source": [
    "text = get_text(\"zad6.txt\")\n",
    "get_file_size(\"zad6.txt\")\n",
    "names, pos = kmr(text)\n",
    "get_struct_size(names)\n",
    "print()\n",
    "\n",
    "text = get_text(\"romeo-i-julia-700.txt\")\n",
    "get_file_size(\"romeo-i-julia-700.txt\")\n",
    "names, pos = kmr(text)\n",
    "get_struct_size(names)\n",
    "print()\n",
    "\n",
    "text = get_text(\"1997_714.txt\")\n",
    "get_file_size(\"1997_714.txt\")\n",
    "names, pos = kmr(text)\n",
    "get_struct_size(names)\n",
    "print()"
   ]
  },
  {
   "cell_type": "markdown",
   "metadata": {},
   "source": [
    "<a id='5'></a>\n",
    "[back to top](#top)\n",
    "## 5. DBF vs KMP search times comparison"
   ]
  },
  {
   "cell_type": "markdown",
   "metadata": {},
   "source": [
    "### Comparison for short text, various patterns"
   ]
  },
  {
   "cell_type": "code",
   "execution_count": 145,
   "metadata": {},
   "outputs": [],
   "source": [
    "text = get_text(\"romeo-i-julia-700.txt\")\n",
    "km = kmr(text)"
   ]
  },
  {
   "cell_type": "code",
   "execution_count": 146,
   "metadata": {},
   "outputs": [
    {
     "name": "stdout",
     "output_type": "stream",
     "text": [
      "kmr: 0.002425600000151462 \n",
      " at positions: [520, 1716, 1826, 1941, 2057, 2298, 2554, 2788, 2952, 3254, 3343, 3418, 3547, 3683, 3773, 3872, 4037, 4149, 4312, 4364]\n",
      "kmp: 0.0022372999997060106 \n",
      " at positions: [520, 1716, 1826, 1941, 2057, 2298, 2554, 2788, 2952, 3254, 3343, 3418, 3547, 3683, 3773, 3872, 4037, 4149, 4312, 4364]\n"
     ]
    }
   ],
   "source": [
    "pattern = \"SAMSON\"\n",
    "time1, res1 = time_eval(quick_kmr_search ,[km, text, pattern])\n",
    "time2, res2 = time_eval(kmp_search ,[pattern, text])\n",
    "print(\"kmr:\",time1, \"\\n at positions:\", res1)\n",
    "print(\"kmp:\",time2, \"\\n at positions:\", res2)"
   ]
  },
  {
   "cell_type": "code",
   "execution_count": 124,
   "metadata": {},
   "outputs": [
    {
     "name": "stdout",
     "output_type": "stream",
     "text": [
      "kmr time: 0.0027943499999310006 \n",
      " found: 391\n",
      "kmp time: 0.0024883999999474327 \n",
      " found: 391\n"
     ]
    }
   ],
   "source": [
    "pattern = \"n\"\n",
    "time1, res1 = time_eval(quick_kmr_search ,[km, text, pattern])\n",
    "time2, res2 = time_eval(kmp_search ,[pattern, text])\n",
    "print(\"kmr time:\",time1, \"\\n found:\", len(res1))\n",
    "print(\"kmp time:\",time2, \"\\n found:\", len(res2))"
   ]
  },
  {
   "cell_type": "code",
   "execution_count": 129,
   "metadata": {},
   "outputs": [
    {
     "name": "stdout",
     "output_type": "stream",
     "text": [
      "kmr time: 0.0022580499999094172 \n",
      " found: 87\n",
      "kmp time: 0.00246545000027254 \n",
      " found: 87\n"
     ]
    }
   ],
   "source": [
    "pattern = \"nie\"\n",
    "time1, res1 = time_eval(quick_kmr_search ,[km, text, pattern])\n",
    "time2, res2 = time_eval(kmp_search ,[pattern, text])\n",
    "print(\"kmr time:\",time1, \"\\n found:\", len(res1))\n",
    "print(\"kmp time:\",time2, \"\\n found:\", len(res2))"
   ]
  },
  {
   "cell_type": "code",
   "execution_count": 130,
   "metadata": {},
   "outputs": [
    {
     "name": "stdout",
     "output_type": "stream",
     "text": [
      "kmr time: 0.0034470999999030028 \n",
      " found: 1\n",
      "kmp time: 0.004771849999997357 \n",
      " found: 1\n"
     ]
    }
   ],
   "source": [
    "pattern = \"SAMSON\\n\\nDalipan, Grzegorzu, nie będziem darli pierza.\"\n",
    "time1, res1 = time_eval(quick_kmr_search ,[km, text, pattern])\n",
    "time2, res2 = time_eval(kmp_search ,[pattern, text])\n",
    "print(\"kmr time:\",time1, \"\\n found:\", len(res1))\n",
    "print(\"kmp time:\",time2, \"\\n found:\", len(res2))"
   ]
  },
  {
   "cell_type": "code",
   "execution_count": 131,
   "metadata": {
    "scrolled": true
   },
   "outputs": [
    {
     "name": "stdout",
     "output_type": "stream",
     "text": [
      "kmr time: 0.0026981500000147207 \n",
      " found: 1\n",
      "kmp time: 0.00393355000005613 \n",
      " found: 1\n"
     ]
    }
   ],
   "source": [
    "pattern = \"\"\"Zapamiętali niesforni poddani,\n",
    "Bezcześciciele bratniej stali! Cóż to,\n",
    "Czy nie słyszycie? Ludzie czy zwierzęta,\n",
    "Co wściekłych swoich gniewów żar gasicie\n",
    "W własnych żył swoich źródle purpurowym;\n",
    "Pod karą tortur wypuśćcie natychmiast\n",
    "Z dłoni skrwawionych tę broń buntowniczą\n",
    "I posłuchajcie tego, co niniejszym\n",
    "Wasz rozjątrzony książę postanawia.\n",
    "Domowe starcia, z marnych słów zrodzone\n",
    "Przez was, Monteki oraz Kapulecie,\n",
    "Trzykroć już spokój miasta zakłóciły,\n",
    "Tak że poważni wiekiem i zasługą\n",
    "Obywatele werońscy musieli\n",
    "Porzucić swoje wygodne przybory\n",
    "I w stare dłonie stare ująć miecze,\n",
    "By zardzewiałym ostrzem zardzewiałe\n",
    "Niechęci wasze przecinać. Jeżeli\n",
    "Wzniecicie kiedyś waśń podobną,\n",
    "Zamęt pokoju opłacicie życiem.\n",
    "A teraz wszyscy ustąpcie niezwłocznie.\n",
    "Ty, Kapulecie, pójdziesz ze mną razem;\n",
    "Ty zaś, Monteki, przyjdziesz po południu\n",
    "Na ratusz, gdzie ci dokładnie w tym względzie\n",
    "Dalsza ma wola oznajmiona będzie.\n",
    "Jeszcze raz wzywam wszystkich tu obecnych\n",
    "Pod karą śmierci, aby się rozeszli.\n",
    "\"\"\"\n",
    "time1, res1 = time_eval(quick_kmr_search ,[km, text, pattern])\n",
    "time2, res2 = time_eval(kmp_search ,[pattern, text])\n",
    "print(\"kmr time:\",time1, \"\\n found:\", len(res1))\n",
    "print(\"kmp time:\",time2, \"\\n found:\", len(res2))"
   ]
  },
  {
   "cell_type": "code",
   "execution_count": 132,
   "metadata": {},
   "outputs": [
    {
     "name": "stdout",
     "output_type": "stream",
     "text": [
      "kmr time: 0.002596750000066095 \n",
      " found: 1\n",
      "kmp time: 0.0032266000002891815 \n",
      " found: 1\n"
     ]
    }
   ],
   "source": [
    "pattern = \"\"\"GRZEGORZ\n",
    "\n",
    "/ na stronie do Samsona /\n",
    "\n",
    "Powiedz: lepszy. Oto nadchodzi jeden z krewnych mego pana.\n",
    "\n",
    "\n",
    "SAMSON\n",
    "\n",
    "Nie inaczej; lepszy.\n",
    "\n",
    "\n",
    "ABRAHAM\n",
    "\n",
    "Kłamiesz.\n",
    "\n",
    "\n",
    "SAMSON\n",
    "\n",
    "Dobądźcie mieczów, jeśli macie serca. Grzegorzu, pamiętaj o swoim pchnięciu.\n",
    "\n",
    "\n",
    "BENWOLIO\n",
    "\n",
    "Odstąpcie, głupcy; schowajcie miecze do pochew. Sami nie wiecie, co robicie.\n",
    "\n",
    "/ Rozdziela ich swoim mieczem. /\n",
    "\n",
    "/ Wchodzi Tybalt. /\n",
    "\n",
    "\n",
    "TYBALT\n",
    "\n",
    "Cóż to? krzyżujesz oręż z parobkami?\n",
    "Do mnie, Benwolio! pilnuj swego życia.\n",
    "\n",
    "\n",
    "BENWOLIO\n",
    "\n",
    "Przywracam tylko pokój. Włóż miecz nazad\n",
    "Albo wraz ze mną rozdziel nim tych ludzi.\n",
    "\n",
    "\n",
    "TYBALT\n",
    "\n",
    "Z gołym orężem pokój? Nienawidzę\n",
    "Tego wyrazu, tak jak nienawidzę\n",
    "Szatana, wszystkich Montekich i ciebie.\n",
    "Broń się, nikczemny tchórzu.\n",
    "\n",
    "/ Walczą. Nadchodzi kilku przyjaciół obu partii i mieszają się do zwady; wkrótce potem wchodzą mieszczanie z pałkami. /\n",
    "\n",
    "\n",
    "PIERWSZY OBYWATEL\n",
    "\n",
    "Hola! berdyszów! pałek! Dalej po nich!\n",
    "Precz z Montekimi, precz z Kapuletami!\n",
    "\n",
    "/ Wchodzą Kapulet i Pani Kapulet /\n",
    "\n",
    "\n",
    "KAPULET\n",
    "\n",
    "Co za hałas? Podajcie mi długi\n",
    "Mój miecz! hej!\n",
    "\n",
    "\n",
    "PANI KAPULET\n",
    "\n",
    "Raczej kulę; co ci z miecza?\n",
    "\n",
    "\n",
    "KAPULET\n",
    "\n",
    "Miecz, mówię! Stary Monteki nadchodzi.\n",
    "I szydnie swoją klingą mi urąga.\n",
    "\n",
    "/ Wchodzą Monteki i Pani Monteki. /\n",
    "\n",
    "\n",
    "MONTEKI\n",
    "\n",
    "Ha! nędzny Kapulecie!\n",
    "\n",
    "/ do żony /\n",
    "\n",
    "                        Puść mnie, pani.\n",
    "\n",
    "\n",
    "PANI MONTEKI\n",
    "\n",
    "Nie puszczę cię na krok, gdy wróg przed tobą.\n",
    "\n",
    "/ Wchodzi Książę z orszakiem. /\n",
    "\n",
    "\n",
    "KSIĄŻĘ\n",
    "\n",
    "Zapamiętali niesforni poddani,\n",
    "Bezcześciciele bratniej stali! Cóż to,\n",
    "Czy nie słyszycie? Ludzie czy zwierzęta,\n",
    "Co wściekłych swoich gniewów żar gasicie\n",
    "W własnych żył swoich źródle purpurowym;\n",
    "Pod karą tortur wypuśćcie natychmiast\n",
    "Z dłoni skrwawionych tę broń buntowniczą\n",
    "I posłuchajcie tego, co niniejszym\n",
    "Wasz rozjątrzony książę postanawia.\n",
    "Domowe starcia, z marnych słów zrodzone\n",
    "Przez was, Monteki oraz Kapulecie,\n",
    "Trzykroć już spokój miasta zakłóciły,\n",
    "Tak że poważni wiekiem i zasługą\n",
    "Obywatele werońscy musieli\n",
    "Porzucić swoje wygodne przybory\n",
    "I w stare dłonie stare ująć miecze,\n",
    "By zardzewiałym ostrzem zardzewiałe\n",
    "Niechęci wasze przecinać. Jeżeli\n",
    "Wzniecicie kiedyś waśń podobną,\n",
    "Zamęt pokoju opłacicie życiem.\n",
    "A teraz wszyscy ustąpcie niezwłocznie.\n",
    "Ty, Kapulecie, pójdziesz ze mną razem;\n",
    "Ty zaś, Monteki, przyjdziesz po południu\n",
    "Na ratusz, gdzie ci dokładnie w tym względzie\n",
    "Dalsza ma wola oznajmiona będzie.\n",
    "Jeszcze raz wzywam wszystkich tu obecnych\n",
    "Pod karą śmierci, aby się rozeszli.\n",
    "\n",
    "/ Książę z orszakiem wychodzi. Podobnież Kapulet, Pani Kapulet, Tybalt, obywatele i słudzy. /\n",
    "\n",
    "\n",
    "MONTEKI\n",
    "\n",
    "Kto wszczął tę nową zwadę? Mów, synowcze,\n",
    "Był żeś tu wtedy, gdy się to zaczęło?\n",
    "\n",
    "\n",
    "BENWOLIO\n",
    "\n",
    "Nieprzyjaciela naszego pachołcy\n",
    "I wasi już się bili, kiedym nadszedł;\n",
    "Dobyłem broni, aby ich rozdzielić:\n",
    "Wtem wpadł szalony Tybalt z gołym mieczem,\n",
    "I harde zionąc mi w uszy wyzwanie,\n",
    "Jął się wywijać nim i siec powietrze,\n",
    "Które świszczało tylko szydząc z marnych\n",
    "Jego zamachów. Gdyśmy tak ze sobą\n",
    "Cięcia i pchnięcia zamieniali, zbiegł się\n",
    "Większy tłum ludzi; z obu stron walczono,\n",
    "Aż książę nadszedł i rozdzielił wszystkich.\n",
    "\n",
    "\n",
    "PANI MONTEKI\n",
    "\n",
    "Lecz gdzież Romeo? Widział żeś go dzisiaj?\n",
    "Jakże się cieszę, że nie był w tym starciu.\n",
    "\n",
    "\n",
    "BENWOLIO\n",
    "\n",
    "Godziną pierwej, nim wspaniałe słońce\n",
    "W złotych się oknach wschodu ukazało,\n",
    "Troski wygnały mię z dala od domu\n",
    "W sykomorowy ów gaj, co się ciągnie\n",
    "Ku południowi od naszego miasta.\n",
    "Tam, już tak rano, syn wasz się przechadzał.\n",
    "Ledwiem go ujrzał, pobiegłem ku niemu;\n",
    "Lecz on, spostrzegłszy mię, skrył się natychmiast\n",
    "I w najciemniejszej ukrył się gęstwinie.\n",
    "Pociąg ten jego do odosobnienia\n",
    "Mierząc mym własnym (serce nasze bowiem\n",
    "Jest najczynniejsze, kiedyśmy samotni),\n",
    "Nie przeszkadzałem mu w jego dumaniach\n",
    "I w inną stronę się udałem, chętnie\n",
    "Stroniąc od tego, co rad mnie unikał.\n",
    "\"\"\"\n",
    "time1, res1 = time_eval(quick_kmr_search ,[km, text, pattern])\n",
    "time2, res2 = time_eval(kmp_search ,[pattern, text])\n",
    "print(\"kmr time:\",time1, \"\\n found:\", len(res1))\n",
    "print(\"kmp time:\",time2, \"\\n found:\", len(res2))"
   ]
  },
  {
   "cell_type": "markdown",
   "metadata": {},
   "source": [
    "### Comparison for long text, various patterns"
   ]
  },
  {
   "cell_type": "code",
   "execution_count": 147,
   "metadata": {},
   "outputs": [],
   "source": [
    "text = get_text(\"1997_714.txt\")\n",
    "km = kmr(text)"
   ]
  },
  {
   "cell_type": "code",
   "execution_count": 157,
   "metadata": {},
   "outputs": [
    {
     "name": "stdout",
     "output_type": "stream",
     "text": [
      "kmr: 0.00040949999993245 \n",
      " found: 0\n",
      "kmp: 0.05076195000037842 \n",
      " found: 0\n"
     ]
    }
   ],
   "source": [
    "pattern = \"Akt\"\n",
    "time1, res1 = time_eval(quick_kmr_search ,[km, text, pattern])\n",
    "time2, res2 = time_eval(kmp_search ,[pattern, text])\n",
    "print(\"kmr:\",time1, \"\\n found:\", len(res1))\n",
    "print(\"kmp:\",time2, \"\\n found:\", len(res2))\n",
    "\n",
    "assert res1 == res2, \"different positions in both algorithms\""
   ]
  },
  {
   "cell_type": "code",
   "execution_count": 156,
   "metadata": {},
   "outputs": [
    {
     "name": "stdout",
     "output_type": "stream",
     "text": [
      "kmr: 0.038850450000154524 \n",
      " found: 58\n",
      "kmp: 0.04154419999986203 \n",
      " found: 58\n"
     ]
    }
   ],
   "source": [
    "pattern = \"Art\"\n",
    "time1, res1 = time_eval(quick_kmr_search ,[km, text, pattern])\n",
    "time2, res2 = time_eval(kmp_search ,[pattern, text])\n",
    "print(\"kmr:\",time1, \"\\n found:\", len(res1))\n",
    "print(\"kmp:\",time2, \"\\n found:\", len(res2))\n",
    "\n",
    "assert res1 == res2, \"different positions in both algorithms\""
   ]
  },
  {
   "cell_type": "markdown",
   "metadata": {},
   "source": [
    "Czas wyszukiwania praktycznie nie zależy od długości wzorca dla algorytmu kmr (z opcją nie wykonywania \n",
    "algorytmu dodatkowo dla pat&text).  \n",
    "Dla długiego tekstu, algorytm kmr (z wcześniej obliczoną strukturą) jest szybszy\n",
    "od algorytmu kmp."
   ]
  }
 ],
 "metadata": {
  "kernelspec": {
   "display_name": "Python 3",
   "language": "python",
   "name": "python3"
  },
  "language_info": {
   "codemirror_mode": {
    "name": "ipython",
    "version": 3
   },
   "file_extension": ".py",
   "mimetype": "text/x-python",
   "name": "python",
   "nbconvert_exporter": "python",
   "pygments_lexer": "ipython3",
   "version": "3.7.6"
  }
 },
 "nbformat": 4,
 "nbformat_minor": 4
}
