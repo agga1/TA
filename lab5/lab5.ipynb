{
 "cells": [
  {
   "cell_type": "markdown",
   "metadata": {},
   "source": [
    "Agnieszka Dutka\n",
    "# Laboratory 5 - Two dimensional patterns\n",
    "\n",
    "Contents:  \n",
    "[1. 2d pattern finding](#1)   \n",
    "[2. Repeating letters pattern in txt](#2)  \n",
    "[3. th and t h in 2d](#3)   \n",
    "[4. single letters search in png](#4)  \n",
    "[5. p a t t e r n search in png](#5)  \n",
    "[6. Automata creation and search times](#6)  \n",
    "[7. Search time in chunks](#7)  \n"
   ]
  },
  {
   "cell_type": "code",
   "execution_count": 168,
   "metadata": {},
   "outputs": [],
   "source": [
    "import queue\n",
    "from typing import List\n",
    "import matplotlib.pyplot as plt\n",
    "from PIL import Image\n",
    "import numpy as np"
   ]
  },
  {
   "cell_type": "markdown",
   "metadata": {},
   "source": [
    "<a id='1'></a>\n",
    "## 1. 2d pattern searching algorithm\n",
    "\n",
    "#### Structures - Node and Trie"
   ]
  },
  {
   "cell_type": "code",
   "execution_count": 169,
   "metadata": {},
   "outputs": [],
   "source": [
    "class Node:\n",
    "    \"\"\" each node represents a state \"\"\"\n",
    "\n",
    "    def __init__(self, letter, parent=None):\n",
    "        self.letter = letter\n",
    "        self.children = {}\n",
    "        self.parent = parent\n",
    "        self.ord = None  # number in suffix trie (up-down and left-right)\n",
    "        self.is_term = False\n",
    "\n",
    "    def add_child(self, letter):\n",
    "        self[letter] = Node(letter, parent=self)\n",
    "        return self[letter]\n",
    "\n",
    "    def __str__(self):\n",
    "        T = \"[terminal]\" if self.is_term else \"\"\n",
    "        return f\"'{self.letter}' {len(self.children)} children {T}\\n\"\n",
    "\n",
    "    def __repr__(self):\n",
    "        return self.__str__()\n",
    "\n",
    "    def __setitem__(self, index, value):\n",
    "        self.children[index] = value\n",
    "\n",
    "    def __getitem__(self, index):\n",
    "        return self.children.get(index, None)\n",
    "\n",
    "\n",
    "class Trie:\n",
    "    def __init__(self, term_char='$'):\n",
    "        self.term_char = term_char\n",
    "        self.root = Node(' ')\n",
    "        self.size = None  # requires explicit call to get_size_and_nrs!!\n",
    "        self.nodes_by_nr = {}\n",
    "\n",
    "    def add_suffix(self, text: str):\n",
    "        parent = self.root\n",
    "        i = 0\n",
    "        child = parent[text[i]]\n",
    "        while i < len(text) and child:\n",
    "            parent = child\n",
    "            child = parent[text[i]]\n",
    "            i += 1\n",
    "\n",
    "        while i < len(text):\n",
    "            parent = parent.add_child(text[i])\n",
    "            i += 1\n",
    "\n",
    "        parent.is_term = True  # mark end\n",
    "\n",
    "    def get_size_and_nrs(self):\n",
    "        \"\"\" traverses trie up-down and left-right, counting trie size and\n",
    "            numbering nodes\"\"\"\n",
    "        self.size = 0\n",
    "\n",
    "        q = queue.Queue()\n",
    "        q.put(self.root)\n",
    "        while not q.empty():\n",
    "            curr = q.get()\n",
    "            for child in curr.children.values():\n",
    "                q.put(child)\n",
    "            curr.ord = self.size\n",
    "            self.nodes_by_nr[self.size] = curr\n",
    "            self.size += 1"
   ]
  },
  {
   "cell_type": "markdown",
   "metadata": {},
   "source": [
    "#### Creating transition tables "
   ]
  },
  {
   "cell_type": "code",
   "execution_count": 170,
   "metadata": {},
   "outputs": [],
   "source": [
    "def build_trans_tables(alphabet: str, patterns_hor: List[str]):\n",
    "    \"\"\" builds transition table along horizontal patterns and\n",
    "        transition table of vertical patterns of states \n",
    "        :returns: transition table for vertical patterns, \n",
    "                  transition table for horizontal patterns,\n",
    "                  final terminal for 2d pattern\"\"\"\n",
    "    trie = Trie()\n",
    "    for pattern in patterns_hor:\n",
    "        trie.add_suffix(pattern)\n",
    "    trie.get_size_and_nrs()\n",
    "    term_states_hor = []\n",
    "\n",
    "    # build vertical transition table, with terminal states for each pattern\n",
    "    trans_table_vert = [{} for _ in range(trie.size)]\n",
    "    if trie.root.is_term:\n",
    "        term_states_hor.append(trie.root)\n",
    "\n",
    "    for letter in alphabet:\n",
    "        trans_table_vert[0][letter] = 0\n",
    "\n",
    "    for state in range(1, trie.size):\n",
    "        parent = trie.nodes_by_nr[state].parent\n",
    "        letter = trie.nodes_by_nr[state].letter\n",
    "        prev_state = trans_table_vert[parent.ord][letter]\n",
    "        trans_table_vert[parent.ord][letter] = state\n",
    "        if trie.nodes_by_nr[prev_state].is_term or trie.nodes_by_nr[state].is_term:\n",
    "            term_states_hor.append(state)\n",
    "        for letter in alphabet:\n",
    "            trans_table_vert[state][letter] = trans_table_vert[prev_state][letter]\n",
    "        for child in trie.nodes_by_nr[prev_state].children.values():\n",
    "            trans_table_vert[state][child.letter] = child.ord\n",
    "\n",
    "    pattern_hor = np.zeros(len(patterns_hor))  # pattern created by vertical terminal states\n",
    "    for i in range(len(patterns_hor)):\n",
    "        pattern_hor[i] = apply1d(patterns_hor[i], trans_table_vert)[-1]\n",
    "\n",
    "    # build horizontal transition table, walking on states\n",
    "    alphabet = np.arange(len(trans_table_vert))  # adding all states as alphabet\n",
    "    trans_table_hor = [{}]\n",
    "    for letter in alphabet:\n",
    "        trans_table_hor[0][letter] = 0\n",
    "    state = 0\n",
    "    for pattern_letter in pattern_hor:\n",
    "        prev_state = trans_table_hor[state][pattern_letter]\n",
    "        trans_table_hor.append({})\n",
    "        trans_table_hor[state][pattern_letter] = state + 1\n",
    "        state += 1\n",
    "        for letter in alphabet:\n",
    "            trans_table_hor[state][letter] = trans_table_hor[prev_state][letter]\n",
    "\n",
    "    return trans_table_vert, trans_table_hor, state  # state - final state for 2d pattern\n"
   ]
  },
  {
   "cell_type": "markdown",
   "metadata": {},
   "source": [
    "#### 2d Pattern finding algorithm"
   ]
  },
  {
   "cell_type": "code",
   "execution_count": 183,
   "metadata": {},
   "outputs": [],
   "source": [
    "def apply1d(text, trans_table_hor) -> np.array:\n",
    "    \"\"\" apply automata algorithm searching for 1d pattern in a 1d structure \n",
    "    :param text: 1d structure (here 1d np.array) \n",
    "    :param trans_table_hor: list of dicts\n",
    "    :return: 1d np.array\n",
    "    \"\"\"\n",
    "    states = []\n",
    "    state = 0\n",
    "    for letter in text:\n",
    "        state = trans_table_hor[state][letter]\n",
    "        states.append(state)\n",
    "\n",
    "    return np.array(states)\n",
    "\n",
    "\n",
    "def apply2d(text: np.array, trans_table: np.array, axis=0):\n",
    "    \"\"\" apply automata algorithm searching for 2d pattern in a 2d numpy array (text) \n",
    "        specify axis along which the pattern is searched (0 for vertical patterns)\"\"\"\n",
    "    return np.apply_along_axis(lambda c: apply1d(c, trans_table), axis, text)\n",
    "\n",
    "\n",
    "def find_pattern(text, trans_table_vert, trans_table_hor, terminal):\n",
    "    \"\"\" finds all occurrences (positions) of 2d pattern in 2d text \"\"\"\n",
    "    occurrences = []\n",
    "    states_table_vert = apply2d(text, trans_table_vert, 0)\n",
    "    # apply automata again on states' table\n",
    "    states_table_hor = apply2d(states_table_vert, trans_table_hor, 1)\n",
    "\n",
    "    for r in range(len(states_table_vert)):\n",
    "        for c in range(len(states_table_vert[r])):\n",
    "            if states_table_hor[r, c] == terminal:\n",
    "                occurrences.append((r, c))\n",
    "    return occurrences\n"
   ]
  },
  {
   "cell_type": "markdown",
   "metadata": {},
   "source": [
    "#### easy API"
   ]
  },
  {
   "cell_type": "code",
   "execution_count": 172,
   "metadata": {},
   "outputs": [],
   "source": [
    "def create_and_find(alphabet, text, pattern2d):\n",
    "    \"\"\" create transition tables and find pattern \n",
    "        :returns list of occurrences (positions) \"\"\"\n",
    "    trans_table_vert, trans_table_hor, terminal = \\\n",
    "        build_trans_tables(alphabet, [pattern2d[:, c] for c in range(pattern2d.shape[1])])\n",
    "    return find_pattern(text, trans_table_vert, trans_table_hor, terminal)\n",
    "\n",
    "def print_result(alphabet, text, pattern, show_pos=False):\n",
    "    positions = create_and_find(alphabet, text, pattern)\n",
    "    print(f\"pattern: \\n{pattern}\\n found {len(positions)} times\")\n",
    "    if show_pos and len(positions)>0:\n",
    "        print(f\"found at: \\n{positions}\\n\")"
   ]
  },
  {
   "cell_type": "markdown",
   "metadata": {},
   "source": [
    "Example usage"
   ]
  },
  {
   "cell_type": "code",
   "execution_count": 193,
   "metadata": {},
   "outputs": [
    {
     "name": "stdout",
     "output_type": "stream",
     "text": [
      "pattern: \n",
      "[['a' 'b' 'b']\n",
      " ['a' 'c' 'b']]\n",
      " found 2 times\n",
      "found at: \n",
      "[(2, 4), (4, 3)]\n",
      "\n"
     ]
    }
   ],
   "source": [
    "example_p = np.array([['a', 'b', 'b'],\n",
    "                      ['a', 'c', 'b']])\n",
    "\n",
    "example_t = np.array([['a', 'b', 'b', 'a', 'b', 'b'],\n",
    "                      ['a', 'a', 'a', 'b', 'b', 'a'],\n",
    "                      ['b', 'b', 'a', 'c', 'b', 'b'],\n",
    "                      ['a', 'a', 'b', 'b', 'a', 'b'],\n",
    "                      ['b', 'a', 'c', 'b', 'b', 'b']])\n",
    "\n",
    "print_result('abc', example_t, example_p, True)\n",
    "assert len(create_and_find('abc', example_t, example_p)) == 2"
   ]
  },
  {
   "cell_type": "markdown",
   "metadata": {},
   "source": [
    "<a id='2'></a>\n",
    "### 2. Finding vertically repeating letters in haystack.txt"
   ]
  },
  {
   "cell_type": "code",
   "execution_count": 179,
   "metadata": {},
   "outputs": [],
   "source": [
    "f = open('haystack.txt')\n",
    "original = f.readlines()\n",
    "\n",
    "original = np.array([list(line) for line in original])\n",
    "lengths = np.array([len(i) for i in original])\n",
    "mask = np.arange(lengths.max()) < lengths[:,None]\n",
    "text = np.full(mask.shape, '-')\n",
    "text[mask] = np.concatenate(original)\n",
    "\n",
    "alphabet = np.unique(text)\n",
    "interpunction = [',', '.', ':', ';', '-', '_', ' ', '\\\"', '\\'','\\n', \"(\", \")\"]"
   ]
  },
  {
   "cell_type": "code",
   "execution_count": 180,
   "metadata": {},
   "outputs": [
    {
     "name": "stdout",
     "output_type": "stream",
     "text": [
      "pattern: \n",
      "[['0']\n",
      " ['0']]\n",
      " found 0 times\n",
      "pattern: \n",
      "[['1']\n",
      " ['1']]\n",
      " found 0 times\n",
      "pattern: \n",
      "[['3']\n",
      " ['3']]\n",
      " found 0 times\n",
      "pattern: \n",
      "[['5']\n",
      " ['5']]\n",
      " found 0 times\n",
      "pattern: \n",
      "[['6']\n",
      " ['6']]\n",
      " found 0 times\n",
      "pattern: \n",
      "[['7']\n",
      " ['7']]\n",
      " found 0 times\n",
      "pattern: \n",
      "[['A']\n",
      " ['A']]\n",
      " found 0 times\n",
      "pattern: \n",
      "[['B']\n",
      " ['B']]\n",
      " found 0 times\n",
      "pattern: \n",
      "[['C']\n",
      " ['C']]\n",
      " found 0 times\n",
      "pattern: \n",
      "[['D']\n",
      " ['D']]\n",
      " found 0 times\n",
      "pattern: \n",
      "[['E']\n",
      " ['E']]\n",
      " found 0 times\n",
      "pattern: \n",
      "[['F']\n",
      " ['F']]\n",
      " found 0 times\n",
      "pattern: \n",
      "[['G']\n",
      " ['G']]\n",
      " found 0 times\n",
      "pattern: \n",
      "[['I']\n",
      " ['I']]\n",
      " found 0 times\n",
      "pattern: \n",
      "[['L']\n",
      " ['L']]\n",
      " found 0 times\n",
      "pattern: \n",
      "[['M']\n",
      " ['M']]\n",
      " found 0 times\n",
      "pattern: \n",
      "[['N']\n",
      " ['N']]\n",
      " found 0 times\n",
      "pattern: \n",
      "[['O']\n",
      " ['O']]\n",
      " found 0 times\n",
      "pattern: \n",
      "[['P']\n",
      " ['P']]\n",
      " found 0 times\n",
      "pattern: \n",
      "[['Q']\n",
      " ['Q']]\n",
      " found 0 times\n",
      "pattern: \n",
      "[['R']\n",
      " ['R']]\n",
      " found 0 times\n",
      "pattern: \n",
      "[['S']\n",
      " ['S']]\n",
      " found 0 times\n",
      "pattern: \n",
      "[['T']\n",
      " ['T']]\n",
      " found 0 times\n",
      "pattern: \n",
      "[['U']\n",
      " ['U']]\n",
      " found 0 times\n",
      "pattern: \n",
      "[['V']\n",
      " ['V']]\n",
      " found 0 times\n",
      "pattern: \n",
      "[['W']\n",
      " ['W']]\n",
      " found 0 times\n",
      "pattern: \n",
      "[['X']\n",
      " ['X']]\n",
      " found 0 times\n",
      "pattern: \n",
      "[['a']\n",
      " ['a']]\n",
      " found 28 times\n",
      "pattern: \n",
      "[['b']\n",
      " ['b']]\n",
      " found 0 times\n",
      "pattern: \n",
      "[['c']\n",
      " ['c']]\n",
      " found 6 times\n",
      "pattern: \n",
      "[['d']\n",
      " ['d']]\n",
      " found 1 times\n",
      "pattern: \n",
      "[['e']\n",
      " ['e']]\n",
      " found 48 times\n",
      "pattern: \n",
      "[['f']\n",
      " ['f']]\n",
      " found 2 times\n",
      "pattern: \n",
      "[['g']\n",
      " ['g']]\n",
      " found 0 times\n",
      "pattern: \n",
      "[['h']\n",
      " ['h']]\n",
      " found 4 times\n",
      "pattern: \n",
      "[['i']\n",
      " ['i']]\n",
      " found 13 times\n",
      "pattern: \n",
      "[['j']\n",
      " ['j']]\n",
      " found 0 times\n",
      "pattern: \n",
      "[['k']\n",
      " ['k']]\n",
      " found 0 times\n",
      "pattern: \n",
      "[['l']\n",
      " ['l']]\n",
      " found 5 times\n",
      "pattern: \n",
      "[['m']\n",
      " ['m']]\n",
      " found 5 times\n",
      "pattern: \n",
      "[['n']\n",
      " ['n']]\n",
      " found 15 times\n",
      "pattern: \n",
      "[['o']\n",
      " ['o']]\n",
      " found 21 times\n",
      "pattern: \n",
      "[['p']\n",
      " ['p']]\n",
      " found 2 times\n",
      "pattern: \n",
      "[['q']\n",
      " ['q']]\n",
      " found 0 times\n",
      "pattern: \n",
      "[['r']\n",
      " ['r']]\n",
      " found 21 times\n",
      "pattern: \n",
      "[['s']\n",
      " ['s']]\n",
      " found 19 times\n",
      "pattern: \n",
      "[['t']\n",
      " ['t']]\n",
      " found 41 times\n",
      "pattern: \n",
      "[['u']\n",
      " ['u']]\n",
      " found 0 times\n",
      "pattern: \n",
      "[['v']\n",
      " ['v']]\n",
      " found 0 times\n",
      "pattern: \n",
      "[['w']\n",
      " ['w']]\n",
      " found 2 times\n",
      "pattern: \n",
      "[['x']\n",
      " ['x']]\n",
      " found 1 times\n",
      "pattern: \n",
      "[['y']\n",
      " ['y']]\n",
      " found 1 times\n",
      "pattern: \n",
      "[['z']\n",
      " ['z']]\n",
      " found 0 times\n"
     ]
    }
   ],
   "source": [
    "one_letter_patterns = [np.array([[letter], [letter]]) for letter in alphabet if letter not in interpunction]\n",
    "for pattern in one_letter_patterns:\n",
    "    print_result(alphabet, text, pattern)"
   ]
  },
  {
   "cell_type": "markdown",
   "metadata": {},
   "source": [
    "<a id='3'></a>\n",
    "### 3. th and t h in 2d"
   ]
  },
  {
   "cell_type": "code",
   "execution_count": 47,
   "metadata": {},
   "outputs": [
    {
     "name": "stdout",
     "output_type": "stream",
     "text": [
      "pattern: \n",
      "[['t' 'h']\n",
      " ['t' 'h']]\n",
      " found 0 times\n",
      "pattern: \n",
      "[['t' ' ' 'h']\n",
      " ['t' ' ' 'h']]\n",
      " found 1 times\n",
      "found at: \n",
      "[(38, 2)]\n",
      "\n"
     ]
    }
   ],
   "source": [
    "th = np.array([['t', 'h'], ['t', 'h']])\n",
    "t_h = np.array([['t', ' ', 'h'], ['t', ' ', 'h']])\n",
    "\n",
    "print_result(alphabet, text, th)\n",
    "print_result(alphabet, text, t_h, show_pos=True)"
   ]
  },
  {
   "cell_type": "markdown",
   "metadata": {},
   "source": [
    "<a id='4'></a>\n",
    "### 4. Png letters"
   ]
  },
  {
   "cell_type": "code",
   "execution_count": 181,
   "metadata": {},
   "outputs": [
    {
     "data": {
      "image/png": "[encoded data removed]",
      "text/plain": [
       "<Figure size 432x288 with 1 Axes>"
      ]
     },
     "metadata": {
      "needs_background": "light"
     },
     "output_type": "display_data"
    },
    {
     "data": {
      "image/png": "[encoded data removed]",
      "text/plain": [
       "<Figure size 432x288 with 1 Axes>"
      ]
     },
     "metadata": {
      "needs_background": "light"
     },
     "output_type": "display_data"
    },
    {
     "data": {
      "image/png": "[encoded data removed]",
      "text/plain": [
       "<Figure size 432x288 with 1 Axes>"
      ]
     },
     "metadata": {
      "needs_background": "light"
     },
     "output_type": "display_data"
    },
    {
     "data": {
      "image/png": "[encoded data removed]",
      "text/plain": [
       "<Figure size 432x288 with 1 Axes>"
      ]
     },
     "metadata": {
      "needs_background": "light"
     },
     "output_type": "display_data"
    }
   ],
   "source": [
    "%matplotlib inline\n",
    "img = np.array(Image.open('haystack.png').convert('L'))\n",
    "alphabet = np.unique(img)\n",
    "\n",
    "s = img[37:47,125:134]\n",
    "w = img[59:69, 48:62]\n",
    "n = img[37:47, 40:49]\n",
    "t = img[34:47, 90:97]\n",
    "\n",
    "plt.imshow(s)\n",
    "plt.show()\n",
    "plt.imshow(w)\n",
    "plt.show()\n",
    "plt.imshow(n)\n",
    "plt.show()\n",
    "plt.imshow(t)\n",
    "plt.show()"
   ]
  },
  {
   "cell_type": "code",
   "execution_count": 182,
   "metadata": {},
   "outputs": [
    {
     "name": "stdout",
     "output_type": "stream",
     "text": [
      "pattern: \n",
      "[[255 249 129  40  10  25  75 194 255]\n",
      " [255 107   0   0   0   0   0   7 255]\n",
      " [255  28  28 196 245 235 183  70 255]\n",
      " [255  48  70 255 255 255 255 255 255]\n",
      " [255 194  23  46 115 166 234 255 255]\n",
      " [255 255 246 181 124  71   9 110 254]\n",
      " [255 255 255 255 255 255 179   0 171]\n",
      " [248  58 164 220 249 228 107   0 138]\n",
      " [247   0   0   0   0   0   0   9 216]\n",
      " [255 198  95  35   7  28  88 208 255]]\n",
      " found 314 times\n",
      "pattern: \n",
      "[[224   0 127 255 255 255  69   0 143 255 255 255  54  41]\n",
      " [255  33  60 255 255 249  10   2  76 255 255 241   3 107]\n",
      " [255  99   5 244 255 193   0  92  13 251 255 178   0 173]\n",
      " [255 165   0 184 255 127  22 203   0 198 255 113   2 237]\n",
      " [255 231   0 118 255  61  87 253  17 132 255  47  49 255]\n",
      " [255 255  41  52 245   6 153 255  80  65 236   1 115 255]\n",
      " [255 255 107   2 168   0 220 255 147   7 163   0 181 255]\n",
      " [255 255 173   0  41  30 255 255 213   0  42   4 242 255]\n",
      " [255 255 238   2   0  96 255 255 255  24   0  57 255 255]\n",
      " [255 255 255  50   0 162 255 255 255  90   0 123 255 255]]\n",
      " found 38 times\n",
      "pattern: \n",
      "[[255 171   0 179 255 255 255]\n",
      " [255 171   0 179 255 255 255]\n",
      " [255 171   0 179 255 255 255]\n",
      " [123   0   0   0   0   0  95]\n",
      " [123   0   0   0   0   0  95]\n",
      " [255 171   0 179 255 255 255]\n",
      " [255 171   0 179 255 255 255]\n",
      " [255 171   0 179 255 255 255]\n",
      " [255 171   0 179 255 255 255]\n",
      " [255 173   0 176 255 255 255]\n",
      " [255 190   0 108 245 255 255]\n",
      " [255 241   9   0   0   0  95]\n",
      " [255 255 176  46   6   0  95]]\n",
      " found 450 times\n",
      "pattern: \n",
      "[[163   0 187 162  40   6  39 166 255]\n",
      " [163   0  92   0   0   0   0   1 192]\n",
      " [163   0   5 145 232 239 132   0  89]\n",
      " [163   0 118 255 255 255 255  34  44]\n",
      " [163   0 179 255 255 255 255  66  32]\n",
      " [163   0 187 255 255 255 255  67  31]\n",
      " [163   0 187 255 255 255 255  67  31]\n",
      " [163   0 187 255 255 255 255  67  31]\n",
      " [163   0 187 255 255 255 255  67  31]\n",
      " [163   0 187 255 255 255 255  67  31]]\n",
      " found 526 times\n"
     ]
    }
   ],
   "source": [
    "print_result(alphabet, img, s)\n",
    "print_result(alphabet, img, w)\n",
    "print_result(alphabet, img, t)\n",
    "print_result(alphabet, img, n)"
   ]
  },
  {
   "cell_type": "markdown",
   "metadata": {},
   "source": [
    "<a id='5'></a>\n",
    "### 5. p a t t e r n search in png"
   ]
  },
  {
   "cell_type": "code",
   "execution_count": 142,
   "metadata": {},
   "outputs": [
    {
     "data": {
      "image/png": "[encoded data removed]",
      "text/plain": [
       "<Figure size 432x288 with 1 Axes>"
      ]
     },
     "metadata": {
      "needs_background": "light"
     },
     "output_type": "display_data"
    }
   ],
   "source": [
    "pattern = img[628:645,248:347]\n",
    "plt.imshow(pattern)\n",
    "plt.show()"
   ]
  },
  {
   "cell_type": "code",
   "execution_count": 113,
   "metadata": {},
   "outputs": [
    {
     "name": "stdout",
     "output_type": "stream",
     "text": [
      "pattern: \n",
      "[[255 255 255 ... 255 255 255]\n",
      " [255 255 255 ... 255 255 255]\n",
      " [255 255 255 ... 255 255 255]\n",
      " ...\n",
      " [163   0 187 ... 255 255 255]\n",
      " [163   0 187 ... 255 255 255]\n",
      " [163   0 187 ... 255 255 255]]\n",
      " found 5 times\n"
     ]
    }
   ],
   "source": [
    "print_result(alphabet, img, pattern)"
   ]
  },
  {
   "cell_type": "markdown",
   "metadata": {},
   "source": [
    "<a id='6'></a>\n",
    "### 6. Time evaluation"
   ]
  },
  {
   "cell_type": "code",
   "execution_count": 132,
   "metadata": {},
   "outputs": [],
   "source": [
    "from typing import Callable\n",
    "from time import perf_counter\n",
    "\n",
    "def time_eval(func: Callable, name, times,  *args, **kwargs):\n",
    "    start_pc = perf_counter()\n",
    "    res = []\n",
    "    for i in range(times):\n",
    "        res = func(*args, **kwargs)\n",
    "    end_pc = perf_counter()\n",
    "    avg_pc = (end_pc-start_pc)/times\n",
    "    if name is not None:\n",
    "        print(name, \"time:\", round(avg_pc, 6))\n",
    "    return avg_pc, res"
   ]
  },
  {
   "cell_type": "code",
   "execution_count": 162,
   "metadata": {},
   "outputs": [],
   "source": [
    "def time_for_pattern(text, pattern2d, alphabet, times=2):\n",
    "    t1, res = time_eval(build_trans_tables, \"building\", times, \\\n",
    "                          alphabet, pattern2d)\n",
    "    t2, _ = time_eval(find_pattern, \"finding pattern\", times, text, *res) \n",
    "    return t1, t2\n"
   ]
  },
  {
   "cell_type": "code",
   "execution_count": 149,
   "metadata": {},
   "outputs": [
    {
     "data": {
      "image/png": "[encoded data removed]",
      "text/plain": [
       "<Figure size 432x288 with 1 Axes>"
      ]
     },
     "metadata": {
      "needs_background": "light"
     },
     "output_type": "display_data"
    },
    {
     "data": {
      "image/png": "[encoded data removed]",
      "text/plain": [
       "<Figure size 432x288 with 1 Axes>"
      ]
     },
     "metadata": {
      "needs_background": "light"
     },
     "output_type": "display_data"
    }
   ],
   "source": [
    "chunk = img[228:645,248:347]\n",
    "plt.imshow(chunk)\n",
    "plt.show()\n",
    "\n",
    "big_chunk = img[228:645,48:347]\n",
    "plt.imshow(big_chunk)\n",
    "plt.show()"
   ]
  },
  {
   "cell_type": "code",
   "execution_count": 156,
   "metadata": {
    "scrolled": true
   },
   "outputs": [
    {
     "name": "stdout",
     "output_type": "stream",
     "text": [
      "pattern size: 90\n",
      "building time: 0.006903\n",
      "finding pattern time: 1.433201\n",
      "\n",
      "pattern size: 1683\n",
      "building time: 0.014819\n",
      "finding pattern time: 1.47984\n",
      "\n",
      "pattern size: 41283\n",
      "building time: 1.731788\n",
      "finding pattern time: 1.533187\n",
      "\n",
      "pattern size: 41283\n",
      "building time: 6.082607\n",
      "finding pattern time: 1.534228\n",
      "7.669944444488566e-05 8.805139631559458e-06 4.194917278298672e-05 4.878457688698654e-05\n"
     ]
    }
   ],
   "source": [
    "s1 = s.shape[0]*s.shape[1]\n",
    "print(f\"pattern size: {s1}\")\n",
    "t1, _ = time_for_pattern(img, s, alphabet)\n",
    "\n",
    "s2 = pattern.shape[0]*pattern.shape[1]\n",
    "print(f\"\\npattern size: {s2}\")\n",
    "t2, _ = time_for_pattern(img, pattern, alphabet)\n",
    "\n",
    "s3 = chunk.shape[0]*chunk.shape[1]\n",
    "print(f\"\\npattern size: {s3}\")\n",
    "t3, _ = time_for_pattern(img, chunk, alphabet)\n",
    "\n",
    "s4 = big_chunk.shape[0]*big_chunk.shape[1]\n",
    "print(f\"\\npattern size: {s3}\")\n",
    "t4, _ = time_for_pattern(img, big_chunk, alphabet)\n",
    "\n",
    "print(t1/s1, t2/s2, t3/s3, t4/s4)"
   ]
  },
  {
   "cell_type": "markdown",
   "metadata": {},
   "source": [
    "Można zauważyć, że czas tworzenia struktury do wyszukiwania danego wzorca jest w przybliżeniu liniowy (gdyż iloraz wielkości wzorca do czasu tworzenia jest stały (z dokładnością do rzędu wielkości))   \n",
    "Czas wyszukiwania wzorca w danym tekście zależy tylko od wielkości tekstu, a nie zależy od wzorca"
   ]
  },
  {
   "cell_type": "markdown",
   "metadata": {},
   "source": [
    "<a id='7'></a>\n",
    "### 7. Time evaluation for smaller chunks"
   ]
  },
  {
   "cell_type": "code",
   "execution_count": 163,
   "metadata": {},
   "outputs": [
    {
     "name": "stdout",
     "output_type": "stream",
     "text": [
      "building time: 0.014496\n",
      "finding pattern time: 0.722068\n",
      "building time: 0.014655\n",
      "finding pattern time: 0.728598\n",
      "whole search time 1.4506657000001724\n",
      "\n",
      "building time: 0.014639\n",
      "finding pattern time: 0.356231\n",
      "building time: 0.014868\n",
      "finding pattern time: 0.36568\n",
      "building time: 0.014295\n",
      "finding pattern time: 0.369479\n",
      "building time: 0.014451\n",
      "finding pattern time: 0.360563\n",
      "whole search time 1.4519537999999557\n",
      "\n",
      "building time: 0.014326\n",
      "finding pattern time: 0.185961\n",
      "building time: 0.014732\n",
      "finding pattern time: 0.196298\n",
      "building time: 0.014704\n",
      "finding pattern time: 0.191705\n",
      "building time: 0.014946\n",
      "finding pattern time: 0.183517\n",
      "building time: 0.014489\n",
      "finding pattern time: 0.186046\n",
      "building time: 0.014861\n",
      "finding pattern time: 0.18601\n",
      "building time: 0.014385\n",
      "finding pattern time: 0.183966\n",
      "building time: 0.014591\n",
      "finding pattern time: 0.190555\n",
      "whole search time 1.5040579500000604\n",
      "\n"
     ]
    }
   ],
   "source": [
    "ln = img.shape[0]\n",
    "\n",
    "def by_parts(img, pattern, alphabet, nr):\n",
    "    ln = img.shape[0]\n",
    "    whole = 0.\n",
    "    for chunk in range(nr):\n",
    "        _, t =time_for_pattern(img[ln*chunk//nr:ln*(chunk+1)//nr], pattern, alphabet)\n",
    "        whole += t\n",
    "    print(f\"whole search time {whole}\\n\")\n",
    "\n",
    "by_parts(img, pattern, alphabet, 2)\n",
    "by_parts(img, pattern, alphabet, 4)\n",
    "by_parts(img, pattern, alphabet, 8)"
   ]
  },
  {
   "cell_type": "markdown",
   "metadata": {},
   "source": [
    "Wyniki pokazują, że czas przeszukiwania jest liniowy w zależności od wielkości tekstu"
   ]
  }
 ],
 "metadata": {
  "kernelspec": {
   "display_name": "Python 3",
   "language": "python",
   "name": "python3"
  },
  "language_info": {
   "codemirror_mode": {
    "name": "ipython",
    "version": 3
   },
   "file_extension": ".py",
   "mimetype": "text/x-python",
   "name": "python",
   "nbconvert_exporter": "python",
   "pygments_lexer": "ipython3",
   "version": "3.7.6"
  }
 },
 "nbformat": 4,
 "nbformat_minor": 4
}
