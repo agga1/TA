{
 "cells": [
  {
   "cell_type": "markdown",
   "metadata": {},
   "source": [
    "Agnieszka Dutka"
   ]
  },
  {
   "cell_type": "markdown",
   "metadata": {},
   "source": [
    "# Text algorithms, lab 2\n",
    "### *Trie vs Tree structure*\n",
    "\n",
    "Content:\n",
    "##### Implementation\n",
    "[Suffix trie](#trie)\n",
    "\n",
    "[Suffix Tree (McCreight)](#tree) \n",
    "\n",
    "[Checker](#checker)\n",
    "##### Testing and comparison\n",
    "[Test](#tests)\n",
    "\n",
    "[Comparision](#comparison)"
   ]
  },
  {
   "cell_type": "markdown",
   "metadata": {},
   "source": [
    "<a id='trie'></a>\n",
    "##  --Suffix Trie--"
   ]
  },
  {
   "cell_type": "markdown",
   "metadata": {},
   "source": [
    "#### Useful structures"
   ]
  },
  {
   "cell_type": "code",
   "execution_count": 6,
   "metadata": {},
   "outputs": [],
   "source": [
    "class Node:\n",
    "    idx = -1\n",
    "    def __init__(self, c, parent=None, depth=0):\n",
    "        self.c = c\n",
    "        self.parent = parent\n",
    "        self.depth = depth\n",
    "        self.children = {}\n",
    "        self.link = None\n",
    "        self.idx = self.next_idx\n",
    "    \n",
    "    def child(self, c):\n",
    "        \"\"\" find child with label c \"\"\"\n",
    "        return self.children.get(c, None)\n",
    "        \n",
    "    def add_child(self, c):\n",
    "        if c in self.children.keys():\n",
    "            print(\"child already exists!\")\n",
    "            return self.children[c]\n",
    "        self.children[c] = Node(c, self, self.depth+1)\n",
    "        return self.children[c]\n",
    "    \n",
    "    def find(self, word: list):\n",
    "        \"\"\" find word in a trie of which self is root \"\"\"\n",
    "        if len(word) == 0:\n",
    "            return True\n",
    "        if self.child(word[0]) is None:\n",
    "            return False\n",
    "        return self.child(word[0]).find(word[1:])\n",
    "    \n",
    "    @property\n",
    "    def next_idx(self):  \n",
    "        \"\"\" finding unique idx for each node (idx of last-added node = size of trie-1)\n",
    "        (unless several tries created at once)\"\"\"\n",
    "        if not self.parent:\n",
    "            Node.idx = -1\n",
    "        Node.idx += 1\n",
    "        return Node.idx\n",
    "    \n",
    "    def __repr__(self):\n",
    "        return f\"{self.c}-{self.idx}\""
   ]
  },
  {
   "cell_type": "markdown",
   "metadata": {},
   "source": [
    "#### Suffix Trie implementation"
   ]
  },
  {
   "cell_type": "code",
   "execution_count": 7,
   "metadata": {},
   "outputs": [],
   "source": [
    "from queue import LifoQueue as queue \n",
    "\n",
    "def up_link_down(sibling):\n",
    "    letters = queue()\n",
    "    while(sibling and not sibling.link):\n",
    "        letters.put(sibling.c)\n",
    "        sibling=sibling.parent\n",
    "    if(not sibling):\n",
    "        return(None,None)\n",
    "    node=sibling.link\n",
    "    current_letter=letters.get()\n",
    "    while(current_letter):\n",
    "        if(node.child(current_letter)):\n",
    "            node=node.child(current_letter)\n",
    "            sibling=sibling.child(current_letter)\n",
    "            sibling.link = node\n",
    "        else:\n",
    "            break\n",
    "        current_letter=letters.get()\n",
    "    return(node,sibling)\n",
    "\n",
    "def graft(node, fragment, sibling=None):\n",
    "#     print(f\"adding fragment length {len(fragment)}, {fragment}\")\n",
    "    for letter in list(fragment):\n",
    "        node = node.add_child(letter)\n",
    "        if(sibling):\n",
    "            sibling=sibling.child(letter)\n",
    "            sibling.link = node\n",
    "    return node\n",
    "\n",
    "\"\"\" building trie \"\"\"\n",
    "def left_to_right(text):\n",
    "    root = Node(\"\")\n",
    "    leaf = graft(root, text)\n",
    "    root.child(text[0]).link = root\n",
    "    for i in range(1, len(text)):\n",
    "        head, sibling = up_link_down(leaf)\n",
    "        leaf = graft(head,text[i+head.depth:],sibling)\n",
    "        root.child(text[i]).link = root # experimental\n",
    "    return root\n"
   ]
  },
  {
   "cell_type": "markdown",
   "metadata": {},
   "source": [
    "<a id='tree'></a>\n",
    "## --Suffix Tree--"
   ]
  },
  {
   "cell_type": "markdown",
   "metadata": {},
   "source": [
    "#### Tree Structure"
   ]
  },
  {
   "cell_type": "code",
   "execution_count": 8,
   "metadata": {},
   "outputs": [],
   "source": [
    "class TreeNode:\n",
    "    \"\"\" Node of Suffix Tree of text @text, representing indexes [@first, @last) \"\"\"\n",
    "    def __init__(self, text, first=0, last=0, parent=None): # defaults for root\n",
    "        self.first = first\n",
    "        self.last = last\n",
    "        self.text = text # whole text\n",
    "        self.parent = parent\n",
    "        self.children = {}\n",
    "        self.slink = None\n",
    "         \n",
    "    @property\n",
    "    def length(self):\n",
    "        return self.last - self.first       \n",
    "    \n",
    "    @property\n",
    "    def label(self):\n",
    "        return self.text[self.first : self.last]\n",
    "    \n",
    "    def add(self, first: int, last: int):\n",
    "        child = TreeNode(self.text, first, last, self)\n",
    "        self.children[self.text[first]] = child # add new child to parent\n",
    "        return child\n",
    "    \n",
    "    def split(self, offset):\n",
    "        new_parent_last = self.first+offset\n",
    "        new_parent = TreeNode(self.text, self.first, new_parent_last, self.parent)\n",
    "        new_parent.children[self.text[new_parent_last]] = self\n",
    "        self.parent.children[self.text[self.first]] = new_parent # change child\n",
    "        self.first = new_parent_last\n",
    "        self.parent = new_parent\n",
    "        return new_parent\n",
    "        \n",
    "    def child(self, c):\n",
    "        return self.children.get(c, None)\n",
    "    \n",
    "    def find(self, word: list):\n",
    "        if word is None:\n",
    "            return True\n",
    "        child = self.child(word[0])\n",
    "        if child is None:\n",
    "            return False\n",
    "        offset = 1\n",
    "        while offset < min(len(word), child.length):\n",
    "            if word[offset] != child.label[offset]:\n",
    "                return False\n",
    "            offset += 1\n",
    "        if offset == len(word):\n",
    "            return True\n",
    "        return child.find(word[offset:])\n",
    "    \n",
    "    def __str__(self, indent=0): # recursive display\n",
    "        return '%s%s\\n%s' % (indent * '  ', self.label, ''.join(\n",
    "                child.__str__(indent + 1)\n",
    "                for key, child in sorted(self.children.items())\n",
    "            )\n",
    "        )\n"
   ]
  },
  {
   "cell_type": "markdown",
   "metadata": {},
   "source": [
    "### McCreight algorithm for building suffix tree"
   ]
  },
  {
   "cell_type": "markdown",
   "metadata": {},
   "source": [
    "#### slow find"
   ]
  },
  {
   "cell_type": "code",
   "execution_count": 9,
   "metadata": {},
   "outputs": [],
   "source": [
    "def slow_find(node, first: int, last: int) -> (TreeNode, TreeNode):\n",
    "    \"\"\" inserts [first, last) into suffix tree starting with @node searching letter by letter.\n",
    "    @node: represents the potential head in each loop. \n",
    "    @return: head and added leaf \"\"\"\n",
    "    text = node.text\n",
    "    offset = 0  # where exactly in the current node we are (offset from node.first)\n",
    "    while node.child(text[first])  is not None: # looking for child with same first char \n",
    "        node = node.child(text[first]) # enter the child\n",
    "        while node.first + offset < node.last and first<len(text): # traverse nodes letters\n",
    "            if text[first] == text[node.first + offset]:\n",
    "                offset += 1\n",
    "                first += 1\n",
    "            else:  # we're in the middle of the node\n",
    "                node = node.split(offset) #CHANGED\n",
    "                leaf = node.add(first, last)\n",
    "                return node, leaf\n",
    "        offset = 0\n",
    "    leaf = node.add(first, last)\n",
    "    return node, leaf"
   ]
  },
  {
   "cell_type": "markdown",
   "metadata": {},
   "source": [
    "### Slow McCreight without fast_find"
   ]
  },
  {
   "cell_type": "code",
   "execution_count": 10,
   "metadata": {},
   "outputs": [],
   "source": [
    "def SlowMcCreight(text):\n",
    "    text_len = len(text)\n",
    "    root = TreeNode(text)\n",
    "    leaf = root.add(0, text_len)\n",
    "    for curr_i in range(1, text_len):\n",
    "        slow_find(root, curr_i, text_len)\n",
    "    return root"
   ]
  },
  {
   "cell_type": "markdown",
   "metadata": {},
   "source": [
    "### Full McCreight with fast_find"
   ]
  },
  {
   "cell_type": "code",
   "execution_count": 11,
   "metadata": {},
   "outputs": [],
   "source": [
    "def fast_find(node, first: int , last: int) -> (TreeNode, int):\n",
    "    \"\"\" returns furthest node on path [first, lasts) and length it occupies in this node \n",
    "    e.g: given: abaabb path: (ab)(aab)b -> node(aab), length=3\"\"\"\n",
    "    assert node is not None\n",
    "    text = node.text\n",
    "    length = last - first\n",
    "    if length == 0:\n",
    "        return node, length\n",
    "    node = node.child(text[first])\n",
    "    while length > node.length: # skip entire node\n",
    "        first += node.length\n",
    "        length -= node.length\n",
    "        node = node.child(text[first])\n",
    "    return node, length\n",
    "\n",
    "def McCreight(text):\n",
    "    text_len = len(text)\n",
    "    root = TreeNode(text)\n",
    "    old_head = root\n",
    "    leaf = root.add(0, text_len)\n",
    "    for curr_i in range(1, text_len):\n",
    "        if old_head == root:    # new suffix to attach = old leaf [1:]\n",
    "            old_head, leaf = slow_find(root, leaf.first + 1, leaf.last)\n",
    "            continue\n",
    "        parent = old_head.parent\n",
    "        if parent == root:      # find \"highest\" slink (aX - X) where oldHead = aX\n",
    "            head_slink, h_len = fast_find(parent, old_head.first + 1, old_head.last)\n",
    "        else:                   # find some lower slink (B-B)\n",
    "            head_slink, h_len = fast_find(parent.slink, old_head.first, old_head.last)\n",
    "        if h_len < head_slink.length: # actual head_slink ends in the middle of current head_slink\n",
    "            head_slink = head_slink.split(h_len) # CHANGED\n",
    "            new_head = head_slink\n",
    "            leaf = new_head.add(leaf.first, leaf.last) # copy leaf \n",
    "        else:                   # head_slink is a node and has other children already - traverse children\n",
    "            new_head, leaf = slow_find(head_slink, leaf.first, leaf.last)\n",
    "        old_head.slink = head_slink # = head_slink\n",
    "        old_head = new_head\n",
    "\n",
    "    return root"
   ]
  },
  {
   "cell_type": "markdown",
   "metadata": {},
   "source": [
    "<a id='checker'></a>\n",
    "## --Checker--"
   ]
  },
  {
   "cell_type": "code",
   "execution_count": 12,
   "metadata": {},
   "outputs": [],
   "source": [
    "from random import random\n",
    "def check(structure, text, fast=False, w_print=False, name=\"structure\"):\n",
    "    \"\"\" check if given structure contains all (or ~10 randomly chosen if @fast) suffixes from text\n",
    "    @w_print: print results instead of returning value \"\"\"\n",
    "    for i in range(len(text)):\n",
    "        if fast and random()>(10./len(text)):\n",
    "            continue\n",
    "        if not structure.find(text[i:]):\n",
    "            if w_print:\n",
    "                print(f\"suffix {text[i:]} not found\")\n",
    "                return\n",
    "            else:\n",
    "                return False\n",
    "    if w_print:\n",
    "        print(f\"{name} correct\")\n",
    "    else:\n",
    "        return True"
   ]
  },
  {
   "cell_type": "code",
   "execution_count": 13,
   "metadata": {},
   "outputs": [],
   "source": [
    "def quick_check(builder, text, word, expected=True):\n",
    "    root = builder(text)\n",
    "    print(root.find(word) == expected)"
   ]
  },
  {
   "cell_type": "markdown",
   "metadata": {},
   "source": [
    "<a id='tests'></a>\n",
    "### Some tests\n",
    "\n",
    "testing if all correct words are present in the structures (or randomly chosen 10 correct words, if text is too long)"
   ]
  },
  {
   "cell_type": "code",
   "execution_count": 14,
   "metadata": {},
   "outputs": [
    {
     "name": "stdout",
     "output_type": "stream",
     "text": [
      "trie correct\n",
      "tree_fast correct\n",
      "tree_slow correct\n"
     ]
    }
   ],
   "source": [
    "text = \"s\"\n",
    "trie = left_to_right(text)\n",
    "tree_fast = McCreight(text)\n",
    "tree_slow = SlowMcCreight(text)\n",
    "check(trie, text, False, True, \"trie\")\n",
    "check(tree_fast, text,False, True, \"tree_fast\")\n",
    "check(tree_slow, text, False, True, \"tree_slow\")"
   ]
  },
  {
   "cell_type": "code",
   "execution_count": 15,
   "metadata": {},
   "outputs": [
    {
     "name": "stdout",
     "output_type": "stream",
     "text": [
      "trie correct\n",
      "tree_fast correct\n",
      "tree_slow correct\n"
     ]
    }
   ],
   "source": [
    "text = \"bffffds\"\n",
    "trie = left_to_right(text)\n",
    "tree_fast = McCreight(text)\n",
    "tree_slow = SlowMcCreight(text)\n",
    "check(trie, text, False, True, \"trie\")\n",
    "check(tree_fast, text,False, True, \"tree_fast\")\n",
    "check(tree_slow, text, False, True, \"tree_slow\")"
   ]
  },
  {
   "cell_type": "code",
   "execution_count": 11,
   "metadata": {},
   "outputs": [
    {
     "name": "stdout",
     "output_type": "stream",
     "text": [
      "trie correct\n",
      "tree_fast correct\n",
      "tree_slow correct\n"
     ]
    }
   ],
   "source": [
    "text = \"bananas\"\n",
    "trie = left_to_right(text)\n",
    "tree_fast = McCreight(text)\n",
    "tree_slow = SlowMcCreight(text)\n",
    "check(trie, text, False, True, \"trie\")\n",
    "check(tree_fast, text,False, True, \"tree_fast\")\n",
    "check(tree_slow, text, False, True, \"tree_slow\")"
   ]
  },
  {
   "cell_type": "code",
   "execution_count": 16,
   "metadata": {},
   "outputs": [
    {
     "name": "stdout",
     "output_type": "stream",
     "text": [
      "trie correct\n",
      "tree_fast correct\n",
      "tree_slow correct\n"
     ]
    }
   ],
   "source": [
    "text = \"bancccocbccccnddncnccvvvjdddwddjaanas\"*10\n",
    "text += \";\"\n",
    "trie = left_to_right(text)\n",
    "tree_fast = McCreight(text)\n",
    "tree_slow = SlowMcCreight(text)\n",
    "check(trie, text, False, True, \"trie\")\n",
    "check(tree_fast, text,False, True, \"tree_fast\")\n",
    "check(tree_slow, text, False, True, \"tree_slow\")"
   ]
  },
  {
   "cell_type": "markdown",
   "metadata": {},
   "source": [
    "testing if incorrect words are not present"
   ]
  },
  {
   "cell_type": "code",
   "execution_count": 13,
   "metadata": {},
   "outputs": [
    {
     "name": "stdout",
     "output_type": "stream",
     "text": [
      "True\n",
      "True\n",
      "True\n",
      "True\n",
      "True\n",
      "True\n",
      "True\n",
      "True\n",
      "True\n"
     ]
    }
   ],
   "source": [
    "quick_check(left_to_right, \"abbac\", \"bd\", False)\n",
    "quick_check(left_to_right, \"abbac\", \"abbacd\", False)\n",
    "quick_check(left_to_right, \"abvvnvvvvnbsbac\", \"abvvnvvvnbsbac\", False)\n",
    "\n",
    "quick_check(McCreight, \"abbac\", \"bd\", False)\n",
    "quick_check(McCreight, \"abbac\", \"abbacd\", False)\n",
    "quick_check(McCreight, \"abvvnvvvvnbsbac\", \"abvvnvvvnbsbac\", False)\n",
    "\n",
    "quick_check(SlowMcCreight, \"abbac\", \"bd\", False)\n",
    "quick_check(SlowMcCreight, \"abbac\", \"abbacd\", False)\n",
    "quick_check(SlowMcCreight, \"abvvnvvvvnbsbac\", \"abvvnvvvnbsbac\", False)\n"
   ]
  },
  {
   "cell_type": "markdown",
   "metadata": {},
   "source": [
    "<a id='comparison'></a>\n",
    "## --Comparison--"
   ]
  },
  {
   "cell_type": "markdown",
   "metadata": {},
   "source": [
    "#### Running time evaluation function"
   ]
  },
  {
   "cell_type": "code",
   "execution_count": 14,
   "metadata": {},
   "outputs": [],
   "source": [
    "from time import perf_counter\n",
    "def time_eval(func, args, w_print=False, name=None, count=10):\n",
    "    start = perf_counter()\n",
    "    for i in range(count):\n",
    "        func(*args)\n",
    "    end = perf_counter()\n",
    "    avg = (end-start)/count\n",
    "    if w_print:\n",
    "        print(f\"{name} average time: {avg}\")\n",
    "    else:\n",
    "        return avg "
   ]
  },
  {
   "cell_type": "markdown",
   "metadata": {},
   "source": [
    "example 1 - bbb$"
   ]
  },
  {
   "cell_type": "code",
   "execution_count": 15,
   "metadata": {},
   "outputs": [
    {
     "name": "stdout",
     "output_type": "stream",
     "text": [
      "Trie average time: 0.00012827399999999046\n",
      "McCreight average time: 1.0728000000028714e-05\n",
      "Slow McCreight average time: 1.6442000000012058e-05\n"
     ]
    }
   ],
   "source": [
    "text = \"bbb$\"\n",
    "time_eval(left_to_right, [text], True, \"Trie\", count=50)\n",
    "time_eval(McCreight, [text], True, \"McCreight\", count=50)\n",
    "time_eval(SlowMcCreight, [text], True, \"Slow McCreight\", count=50)"
   ]
  },
  {
   "attachments": {
    "image.png": {
     "image/png": "[encoded data removed]"
    }
   },
   "cell_type": "markdown",
   "metadata": {},
   "source": [
    "Saved results\n",
    "![image.png](attachment:image.png)"
   ]
  },
  {
   "cell_type": "markdown",
   "metadata": {},
   "source": [
    "example 2 - aabbabd"
   ]
  },
  {
   "cell_type": "code",
   "execution_count": 16,
   "metadata": {},
   "outputs": [
    {
     "name": "stdout",
     "output_type": "stream",
     "text": [
      "Trie average time: 0.00023779799999999794\n",
      "McCreight average time: 2.0768000000011e-05\n",
      "Slow McCreight average time: 2.3642000000023698e-05\n"
     ]
    }
   ],
   "source": [
    "text = \"aabbabd\"\n",
    "time_eval(left_to_right, [text], True, \"Trie\",count=50)\n",
    "time_eval(McCreight, [text], True, \"McCreight\",count=50)\n",
    "time_eval(SlowMcCreight, [text], True, \"Slow McCreight\",count=50)"
   ]
  },
  {
   "attachments": {
    "image.png": {
     "image/png": "[encoded data removed]"
    }
   },
   "cell_type": "markdown",
   "metadata": {},
   "source": [
    "Saved results\n",
    "![image.png](attachment:image.png)"
   ]
  },
  {
   "cell_type": "markdown",
   "metadata": {},
   "source": [
    "example 3 - ababcd"
   ]
  },
  {
   "cell_type": "code",
   "execution_count": 17,
   "metadata": {},
   "outputs": [
    {
     "name": "stdout",
     "output_type": "stream",
     "text": [
      "Trie average time: 0.00014215999999986906\n",
      "McCreight average time: 1.6149999999903743e-05\n",
      "Slow McCreight average time: 3.007999999997679e-05\n"
     ]
    }
   ],
   "source": [
    "text = \"ababcd\"\n",
    "time_eval(left_to_right, [text], True, \"Trie\")\n",
    "time_eval(McCreight, [text], True, \"McCreight\")\n",
    "time_eval(SlowMcCreight, [text], True, \"Slow McCreight\")"
   ]
  },
  {
   "attachments": {
    "image.png": {
     "image/png": "[encoded data removed]"
    }
   },
   "cell_type": "markdown",
   "metadata": {},
   "source": [
    "Saved results\n",
    "![image.png](attachment:image.png)"
   ]
  },
  {
   "cell_type": "markdown",
   "metadata": {},
   "source": [
    "example 4 - abcbccd"
   ]
  },
  {
   "cell_type": "code",
   "execution_count": 20,
   "metadata": {},
   "outputs": [
    {
     "name": "stdout",
     "output_type": "stream",
     "text": [
      "Trie average time: 0.00019513000000017655\n",
      "McCreight average time: 1.5370000000558547e-05\n",
      "Slow McCreight average time: 1.902999999998656e-05\n"
     ]
    }
   ],
   "source": [
    "text = \"abcbccd\"\n",
    "time_eval(left_to_right, [text], True, \"Trie\")\n",
    "time_eval(McCreight, [text], True, \"McCreight\")\n",
    "time_eval(SlowMcCreight, [text], True, \"Slow McCreight\")"
   ]
  },
  {
   "attachments": {
    "image.png": {
     "image/png": "[encoded data removed]"
    }
   },
   "cell_type": "markdown",
   "metadata": {},
   "source": [
    "Saved results\n",
    "![image.png](attachment:image.png)"
   ]
  },
  {
   "cell_type": "code",
   "execution_count": 19,
   "metadata": {},
   "outputs": [
    {
     "name": "stdout",
     "output_type": "stream",
     "text": [
      "Trie average time: 9.129483400000002\n",
      "McCreight average time: 0.007633300000001952\n",
      "Slow McCreight average time: 0.022145499999997043\n"
     ]
    }
   ],
   "source": [
    "f = open(\"1997_714.txt\", \"r\", encoding='utf-8')\n",
    "text = ''.join(f.readlines())\n",
    "text = text[:2000]\n",
    "text += chr(27) # unique character at the end\n",
    "time_eval(left_to_right, [text], True, \"Trie\", count=1)\n",
    "time_eval(McCreight, [text], True, \"McCreight\", 1)\n",
    "time_eval(SlowMcCreight, [text], True, \"Slow McCreight\", 1)\n"
   ]
  },
  {
   "attachments": {
    "image.png": {
     "image/png": "[encoded data removed]"
    }
   },
   "cell_type": "markdown",
   "metadata": {},
   "source": [
    "Screen of results when len(text)=2000\n",
    "![image.png](attachment:image.png)"
   ]
  }
 ],
 "metadata": {
  "kernelspec": {
   "display_name": "Python 3",
   "language": "python",
   "name": "python3"
  },
  "language_info": {
   "codemirror_mode": {
    "name": "ipython",
    "version": 3
   },
   "file_extension": ".py",
   "mimetype": "text/x-python",
   "name": "python",
   "nbconvert_exporter": "python",
   "pygments_lexer": "ipython3",
   "version": "3.7.4"
  }
 },
 "nbformat": 4,
 "nbformat_minor": 2
}
