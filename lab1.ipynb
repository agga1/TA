{
 "cells": [
  {
   "cell_type": "markdown",
   "metadata": {},
   "source": [
    "Agnieszka Dutka\n",
    "# Algorytmy Tekstowe \n",
    " ###### *Laboratorium 1*"
   ]
  },
  {
   "cell_type": "markdown",
   "metadata": {},
   "source": [
    "### 1 - implementacja algorytmów szukających wzorca w tekście"
   ]
  },
  {
   "cell_type": "code",
   "execution_count": 1,
   "metadata": {},
   "outputs": [],
   "source": [
    "\n",
    "# ------------------- naive algorithm ------------------------\n",
    "\n",
    "def naive_string_matching(text, pattern):\n",
    "    res = 0\n",
    "    for s in range(0, len(text) - len(pattern) + 1):\n",
    "        if(pattern == text[s:s+len(pattern)]):\n",
    "            res += 1\n",
    "    return res\n",
    "            \n",
    "            \n",
    "# ------------------- finite automat  ------------------------          \n",
    "\n",
    "import re\n",
    "\n",
    "def transition_table(pattern, alphabet):\n",
    "    result = []\n",
    "    for q in range(len(pattern)+1):\n",
    "        result.append({})\n",
    "\n",
    "        for letter in alphabet:\n",
    "            k = min(len(pattern), q + 1)\n",
    "\n",
    "            while k > 0 and pattern[:k] != (pattern[:q] + letter)[q - k + 1:]:\n",
    "                k -= 1\n",
    "            result[q][letter] = k\n",
    "\n",
    "    return result\n",
    "\n",
    "def fa_string_matching(text, delta):\n",
    "    res = 0\n",
    "    q = 0\n",
    "    for s in range(0, len(text)):\n",
    "        if( text[s] not in delta[q].keys()):\n",
    "            q = 0\n",
    "        else:\n",
    "            q = delta[q][text[s]]\n",
    "            if(q == len(delta) - 1):\n",
    "                res += 1\n",
    "    return res\n",
    "            \n",
    "#------------ Knuth-Morris-Pratt algorithm --------------------\n",
    "\n",
    "def prefix_function(pattern):\n",
    "    pi = [0]\n",
    "    k = 0\n",
    "    for q in range(1, len(pattern)):\n",
    "        while(k > 0 and pattern[k] != pattern[q]):\n",
    "            k = pi[k-1]\n",
    "        if(pattern[k] == pattern[q]):\n",
    "            k = k + 1\n",
    "        pi.append(k)\n",
    "    return pi\n",
    "\n",
    "def kmp_string_matching(text, pattern, pi):\n",
    "    res = 0\n",
    "    q = 0\n",
    "    for i in range(0, len(text)):\n",
    "        while(q > 0 and pattern[q] != text[i]):\n",
    "            q = pi[q-1]\n",
    "        if(pattern[q] == text[i]):\n",
    "            q = q + 1\n",
    "        if(q == len(pattern)):\n",
    "            res += 1\n",
    "            q = pi[q-1]\n",
    "    return res\n",
    "            "
   ]
  },
  {
   "cell_type": "markdown",
   "metadata": {},
   "source": [
    "### 2 - Funkcje testujące"
   ]
  },
  {
   "cell_type": "code",
   "execution_count": 2,
   "metadata": {},
   "outputs": [],
   "source": [
    "from time import perf_counter\n",
    "\n",
    "def eval_func(func, args, count=4):\n",
    "    start = perf_counter()\n",
    "    for i in range(0, count):\n",
    "        func(*args)\n",
    "    end = perf_counter()\n",
    "    average = (end-start)/count\n",
    "    return average\n"
   ]
  },
  {
   "cell_type": "code",
   "execution_count": 3,
   "metadata": {},
   "outputs": [],
   "source": [
    "# summary comparing 3 algorithms for given pattern and text\n",
    "\n",
    "def summary(text, pattern, count=4):\n",
    "    if(len(pattern)>100):\n",
    "        print(\"summary for pattern \", pattern[:100], \"...\")\n",
    "    else:\n",
    "        print(\"summary for pattern \", pattern)\n",
    "    res1 = naive_string_matching(text, pattern)\n",
    "    pi = prefix_function(pattern)\n",
    "    res2 = kmp_string_matching(text, pattern, pi)\n",
    "    tr_table = transition_table(pattern, set(pattern))\n",
    "    res3 = fa_string_matching(text, tr_table)\n",
    "    print(res1, \" \",res2, \" \", res3)\n",
    "    print(\"naive alg average time: \",eval_func(naive_string_matching, [text, pattern], count))\n",
    "    print(\"kmp alg average time: \",eval_func(kmp_string_matching, [text, pattern, pi], count))\n",
    "    print(\"finite automat average time: \",eval_func(fa_string_matching, [text, tr_table], count))\n"
   ]
  },
  {
   "cell_type": "markdown",
   "metadata": {},
   "source": [
    "### 2 - przeprowadzone testy"
   ]
  },
  {
   "cell_type": "code",
   "execution_count": 112,
   "metadata": {},
   "outputs": [
    {
     "name": "stdout",
     "output_type": "stream",
     "text": [
      "summary for pattern  przy\n",
      "first...\n",
      "262   262   262\n",
      "naive alg average time:  0.05332889999999679\n",
      "kmp alg average time:  0.04572714999994787\n",
      "finite automat average time:  0.04352625000001353\n",
      "summary for pattern  podatników\n",
      "first...\n",
      "29   29   29\n",
      "naive alg average time:  0.061231525000039255\n",
      "kmp alg average time:  0.05567184999995334\n",
      "finite automat average time:  0.04843137500006378\n",
      "summary for pattern  przyc\n",
      "first...\n",
      "141   141   141\n",
      "naive alg average time:  0.05538417499997195\n",
      "kmp alg average time:  0.05921115000001009\n",
      "finite automat average time:  0.05259129999990364\n",
      "summary for pattern  a\n",
      "first...\n",
      "10346   10346   10346\n",
      "naive alg average time:  0.04512682499989751\n",
      "kmp alg average time:  0.05159694999997555\n",
      "finite automat average time:  0.04621945000008054\n"
     ]
    }
   ],
   "source": [
    "# 2 - running some tests\n",
    "f = open(\"ustawa.txt\", \"r\", encoding='utf-8')\n",
    "text = ''.join(f.readlines())\n",
    "summary(text, \"przy\")\n",
    "summary(text, \"podatników\")\n",
    "summary(text, \"przyc\")\n",
    "summary(text, \"a\")"
   ]
  },
  {
   "attachments": {
    "image.png": {
     "image/png": "[encoded data removed]"
    }
   },
   "cell_type": "markdown",
   "metadata": {},
   "source": [
    "Screen wyników\n",
    "![image.png](attachment:image.png)"
   ]
  },
  {
   "cell_type": "markdown",
   "metadata": {},
   "source": [
    "### 3, 4 - szukanie wzorca \"art\" w Ustawie"
   ]
  },
  {
   "cell_type": "code",
   "execution_count": 98,
   "metadata": {},
   "outputs": [
    {
     "name": "stdout",
     "output_type": "stream",
     "text": [
      "summary for pattern  art\n",
      "273   273   273\n",
      "naive alg average time:  0.05074350000006689\n",
      "kmp alg average time:  0.04957439999998314\n",
      "finite automat average time:  0.03802832499991382\n"
     ]
    }
   ],
   "source": [
    "summary(text, \"art\")  \n"
   ]
  },
  {
   "attachments": {
    "image.png": {
     "image/png": "[encoded data removed]"
    }
   },
   "cell_type": "markdown",
   "metadata": {},
   "source": [
    "Screen wyników\n",
    "![image.png](attachment:image.png)"
   ]
  },
  {
   "cell_type": "markdown",
   "metadata": {},
   "source": [
    "### 5 - Wyszukanie słowa \"kruszwil\" we fragmencie polskiej Wikipedii"
   ]
  },
  {
   "cell_type": "code",
   "execution_count": 108,
   "metadata": {},
   "outputs": [
    {
     "name": "stdout",
     "output_type": "stream",
     "text": [
      "summary for pattern  kruszwil\n",
      "first...\n",
      "13   13   13\n",
      "naive alg average time:  71.3399586000005\n",
      "kmp alg average time:  69.42106669999976\n",
      "finite automat average time:  70.43007540000053\n"
     ]
    }
   ],
   "source": [
    "f = open(\"wikipedia-tail-kruszwil.txt\", \"r\", encoding='utf-8')\n",
    "text = ''.join(f.readlines())\n",
    "summary(text, \"kruszwil\", count=1)"
   ]
  },
  {
   "attachments": {
    "image.png": {
     "image/png": "[encoded data removed]"
    }
   },
   "cell_type": "markdown",
   "metadata": {},
   "source": [
    "Screen wyników\n",
    "![image.png](attachment:image.png)"
   ]
  },
  {
   "cell_type": "markdown",
   "metadata": {},
   "source": [
    "### 6 - algorytm naiwny 2x wolniejszy\n"
   ]
  },
  {
   "cell_type": "code",
   "execution_count": 4,
   "metadata": {},
   "outputs": [
    {
     "ename": "FileNotFoundError",
     "evalue": "[Errno 2] No such file or directory: 'ustawa.txt'",
     "output_type": "error",
     "traceback": [
      "\u001b[1;31m---------------------------------------------------------------------------\u001b[0m",
      "\u001b[1;31mFileNotFoundError\u001b[0m                         Traceback (most recent call last)",
      "\u001b[1;32m<ipython-input-4-12143bdc74fe>\u001b[0m in \u001b[0;36m<module>\u001b[1;34m\u001b[0m\n\u001b[1;32m----> 1\u001b[1;33m \u001b[0mf\u001b[0m \u001b[1;33m=\u001b[0m \u001b[0mopen\u001b[0m\u001b[1;33m(\u001b[0m\u001b[1;34m\"ustawa.txt\"\u001b[0m\u001b[1;33m,\u001b[0m \u001b[1;34m\"r\"\u001b[0m\u001b[1;33m,\u001b[0m \u001b[0mencoding\u001b[0m\u001b[1;33m=\u001b[0m\u001b[1;34m'utf-8'\u001b[0m\u001b[1;33m)\u001b[0m\u001b[1;33m\u001b[0m\u001b[1;33m\u001b[0m\u001b[0m\n\u001b[0m\u001b[0;32m      2\u001b[0m \u001b[0msummary\u001b[0m\u001b[1;33m(\u001b[0m\u001b[0mtext\u001b[0m\u001b[1;33m,\u001b[0m \u001b[1;34m\"przyc\"\u001b[0m\u001b[1;33m*\u001b[0m\u001b[1;36m300\u001b[0m\u001b[1;33m)\u001b[0m\u001b[1;33m\u001b[0m\u001b[1;33m\u001b[0m\u001b[0m\n",
      "\u001b[1;31mFileNotFoundError\u001b[0m: [Errno 2] No such file or directory: 'ustawa.txt'"
     ]
    }
   ],
   "source": [
    "f = open(\"ustawa.txt\", \"r\", encoding='utf-8')\n",
    "summary(text, \"przyc\"*300) "
   ]
  },
  {
   "attachments": {
    "image.png": {
     "image/png": "[encoded data removed]"
    }
   },
   "cell_type": "markdown",
   "metadata": {},
   "source": [
    "Screen wyników\n",
    "![image.png](attachment:image.png)\n"
   ]
  },
  {
   "cell_type": "markdown",
   "metadata": {},
   "source": [
    "###  7 - wzorzec, dla którego czas obliczenia tablicy przejścia automatu skończonego jest co najmniej dwukrotnie dłuższy, niż czas potrzebny na utworzenie funkcji przejścia w algorytmie KMP"
   ]
  },
  {
   "cell_type": "code",
   "execution_count": 119,
   "metadata": {},
   "outputs": [
    {
     "name": "stdout",
     "output_type": "stream",
     "text": [
      "time of creating transition table\n",
      "0.20876482500011662\n",
      "time of creating prefix function\n",
      "0.00011392499982321169\n"
     ]
    }
   ],
   "source": [
    "pat = \"przyc\"*100\n",
    "print(\"time of creating transition table\")\n",
    "print(eval_func( transition_table, [pat, set(pat)]))\n",
    "print(\"time of creating prefix function\")\n",
    "print(eval_func(prefix_function, [pat]))\n"
   ]
  },
  {
   "attachments": {
    "image.png": {
     "image/png": "[encoded data removed]"
    }
   },
   "cell_type": "markdown",
   "metadata": {},
   "source": [
    "Screen wyników\n",
    "![image.png](attachment:image.png)\n"
   ]
  }
 ],
 "metadata": {
  "kernelspec": {
   "display_name": "Python 3",
   "language": "python",
   "name": "python3"
  },
  "language_info": {
   "codemirror_mode": {
    "name": "ipython",
    "version": 3
   },
   "file_extension": ".py",
   "mimetype": "text/x-python",
   "name": "python",
   "nbconvert_exporter": "python",
   "pygments_lexer": "ipython3",
   "version": "3.7.4"
  }
 },
 "nbformat": 4,
 "nbformat_minor": 2
}
