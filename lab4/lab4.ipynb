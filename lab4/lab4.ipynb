{
 "cells": [
  {
   "cell_type": "markdown",
   "metadata": {},
   "source": [
    "Agnieszka Dutka\n",
    "# Laboratory 4 - Edit distance and longest common subsequence\n",
    "\n",
    "Contents:  \n",
    "[Edit distance](#ed)   \n",
    "[Editing visualization](#vis)  \n",
    "[LCS](#lsi)  \n",
    "[Diff](#diff)\n",
    "\n",
    "&nbsp;&nbsp;&nbsp;"
   ]
  },
  {
   "cell_type": "code",
   "execution_count": 14,
   "metadata": {},
   "outputs": [],
   "source": [
    "import numpy as np\n",
    "from bisect import bisect\n",
    "from unidecode import unidecode"
   ]
  },
  {
   "cell_type": "markdown",
   "metadata": {},
   "source": [
    "<a id='ed'></a>\n",
    "### Edit distance\n",
    "\n",
    "**_space complexity O(m x n)_**"
   ]
  },
  {
   "cell_type": "code",
   "execution_count": 15,
   "metadata": {},
   "outputs": [],
   "source": [
    "def edit_distance(x, y, delta, whole_array=False):\n",
    "    edit_table=np.zeros((len(x)+1,len(y)+1))\n",
    "    for i in range(len(x)+1):\n",
    "        edit_table[i,0]=i\n",
    "    for j in range(len(y)+1):\n",
    "        edit_table[0,j]=j\n",
    "    for i in range(len(x)):\n",
    "        k = i+1\n",
    "        for j in range(len(y)):\n",
    "            l = j+1\n",
    "            edit_table[k,l]= min(\n",
    "                edit_table[k-1,l]+1, edit_table[k,l-1]+1, edit_table[k-1,l-1]+delta(x[i],y[j]))\n",
    "    if whole_array:\n",
    "        return edit_table\n",
    "    return edit_table[len(x),len(y)]"
   ]
  },
  {
   "cell_type": "markdown",
   "metadata": {},
   "source": [
    "**_space complexity O(min{m, n})_**"
   ]
  },
  {
   "cell_type": "code",
   "execution_count": 17,
   "metadata": {},
   "outputs": [],
   "source": [
    "def edit_distance2(x, y, delta):\n",
    "    if len(x) > len(y):\n",
    "        x, y = y, x\n",
    "    edit_row = [i for i in range(len(x)+1)]\n",
    "    for i in range(1, len(y)+1):\n",
    "        new_row = [0]*(len(edit_row))\n",
    "        new_row[0]=i\n",
    "        for j in range(1, len(edit_row)):\n",
    "            new_row[j]= min(\n",
    "                new_row[j-1]+1, edit_row[j]+1, edit_row[j-1]+delta(x[j-1],y[i-1]))\n",
    "        edit_row = new_row\n",
    "    return edit_row[-1]"
   ]
  },
  {
   "cell_type": "markdown",
   "metadata": {},
   "source": [
    "#### Delta functions"
   ]
  },
  {
   "cell_type": "code",
   "execution_count": 18,
   "metadata": {},
   "outputs": [],
   "source": [
    "def delta1(a,b):  # classic\n",
    "    if(a==b):\n",
    "        return 0\n",
    "    return 1\n",
    "\n",
    "def delta2(a,b):  # no swap \n",
    "    if(a==b):\n",
    "        return 0\n",
    "    return 2\n",
    "\n",
    "def delta3(a,b):  # with unidecode opt\n",
    "    if(a==b):\n",
    "        return 0\n",
    "    elif unidecode(a)==unidecode(b):\n",
    "        return 0.5\n",
    "    return 1\n"
   ]
  },
  {
   "cell_type": "markdown",
   "metadata": {},
   "source": [
    "<a id='path'></a>\n",
    "### Path finding and visualization\n",
    "\n",
    "edit distance algorithm returning min_distance and path"
   ]
  },
  {
   "cell_type": "code",
   "execution_count": 19,
   "metadata": {},
   "outputs": [],
   "source": [
    "def get_path(x, y, delta): # x, y swapped xD\n",
    "    x, y = y, x\n",
    "    edit_row = [(i, 'i'*i) for i in range(len(x)+1)]\n",
    "    for i in range(1, len(y)+1):\n",
    "        new_row = [0]*(len(edit_row))\n",
    "        new_row[0]=(i, 'd'*i)\n",
    "        for j in range(1, len(edit_row)):\n",
    "            min_tuple = min(\n",
    "                (new_row[j-1][0]+1, new_row[j-1][1]+'i'), \n",
    "                (edit_row[j][0]+1, edit_row[j][1]+'d'),\n",
    "                (edit_row[j-1][0]+delta(x[j-1],y[i-1]), edit_row[j-1][1]+'s'))\n",
    "            new_row[j]= min_tuple\n",
    "        edit_row = new_row\n",
    "    return edit_row[-1]\n",
    "\n",
    "def edit_distance_vis(a: str, b: str):\n",
    "    res, path = get_path(a, b, delta3)\n",
    "    ai, bi = 0, 0\n",
    "    a = list(a)\n",
    "    print(''.join(a), \"<- start\")\n",
    "    for move in path:\n",
    "        if move == 's':\n",
    "            if a[ai]!= b[bi]: # swap\n",
    "                a[ai] = b[bi]\n",
    "                print(''.join(a[:ai]+['*', a[ai], '*']+a[ai+1:]), \"\\t[swap]\")\n",
    "            ai, bi = ai+1, bi+1\n",
    "        elif move == 'i': # insertion\n",
    "            a.insert(ai, b[bi])\n",
    "            print(''.join(a[:ai]+['*', a[ai], '*']+a[ai+1:]), \"\\t[ins]\")\n",
    "            ai, bi = ai+1, bi+1\n",
    "        elif move == 'd': #deletion\n",
    "            print(''.join(a[:ai]+['*','*']+a[ai+1:]), \"\\t[del]\")\n",
    "            del a[ai]\n"
   ]
  },
  {
   "cell_type": "code",
   "execution_count": 20,
   "metadata": {},
   "outputs": [
    {
     "name": "stdout",
     "output_type": "stream",
     "text": [
      "[[0. 1. 2. 3. 4. 5. 6.]\n",
      " [1. 1. 2. 3. 4. 5. 5.]\n",
      " [2. 2. 2. 3. 4. 5. 6.]\n",
      " [3. 3. 3. 3. 4. 5. 6.]\n",
      " [4. 4. 4. 4. 3. 4. 5.]]\n"
     ]
    }
   ],
   "source": [
    "print(edit_distance(\"kast\", \"plotek\", delta1, True))"
   ]
  },
  {
   "cell_type": "markdown",
   "metadata": {},
   "source": [
    "<a id='vis'></a>\n",
    "### Visualization for given strings"
   ]
  },
  {
   "cell_type": "code",
   "execution_count": 21,
   "metadata": {},
   "outputs": [
    {
     "name": "stdout",
     "output_type": "stream",
     "text": [
      "los <- start\n",
      "*k*los \t[ins]\n",
      "klo*c* \t[swap]\n"
     ]
    }
   ],
   "source": [
    "edit_distance_vis(\"los\", \"kloc\")"
   ]
  },
  {
   "cell_type": "code",
   "execution_count": 22,
   "metadata": {},
   "outputs": [
    {
     "name": "stdout",
     "output_type": "stream",
     "text": [
      "Łódź <- start\n",
      "*L*ódź \t[swap]\n",
      "L*o*dź \t[swap]\n",
      "Lod*z* \t[swap]\n"
     ]
    }
   ],
   "source": [
    "edit_distance_vis(\"Łódź\", \"Lodz\")"
   ]
  },
  {
   "cell_type": "code",
   "execution_count": 9,
   "metadata": {},
   "outputs": [
    {
     "name": "stdout",
     "output_type": "stream",
     "text": [
      "kwintesencja <- start\n",
      "*q*wintesencja \t[swap]\n",
      "q*u*intesencja \t[swap]\n",
      "quinte*s*sencja \t[ins]\n",
      "quintessenc**a \t[del]\n",
      "quintessenc*e* \t[swap]\n"
     ]
    }
   ],
   "source": [
    "edit_distance_vis(\"kwintesencja\", \"quintessence\")"
   ]
  },
  {
   "cell_type": "code",
   "execution_count": 10,
   "metadata": {},
   "outputs": [
    {
     "name": "stdout",
     "output_type": "stream",
     "text": [
      "ATGAATCTTACCGCCTCG <- start\n",
      "ATGA*G*ATCTTACCGCCTCG \t[ins]\n",
      "ATGAG*G*ATCTTACCGCCTCG \t[ins]\n",
      "ATGAGG*C*TCTTACCGCCTCG \t[swap]\n",
      "ATGAGGCTCT*G*ACCGCCTCG \t[swap]\n",
      "ATGAGGCTCTG*G*CCGCCTCG \t[swap]\n",
      "ATGAGGCTCTGGCC**CCTCG \t[del]\n",
      "ATGAGGCTCTGGCCCCT**G \t[del]\n"
     ]
    }
   ],
   "source": [
    "edit_distance_vis(\"ATGAATCTTACCGCCTCG\", \"ATGAGGCTCTGGCCCCTG\")"
   ]
  },
  {
   "cell_type": "markdown",
   "metadata": {},
   "source": [
    "<a id='lsi'></a>\n",
    "### Longest common subsequence"
   ]
  },
  {
   "cell_type": "code",
   "execution_count": 110,
   "metadata": {},
   "outputs": [],
   "source": [
    "\n",
    "def lcs1(x, y):\n",
    "    return(len(x)+len(y)-edit_distance(x,y,delta2))/2\n",
    "\n",
    "def lcs2(x: list,y: list):  # faster, works on any kind of lists\n",
    "    ranges=[]\n",
    "    ranges.append(len(y))# I_0 = [0..n]\n",
    "    for i in range(len(x)):\n",
    "        positions=[j for j,l in enumerate(y) if l==x[i]]\n",
    "        positions.reverse()\n",
    "        for p in positions:\n",
    "            k = bisect(ranges,p)\n",
    "            if(k == bisect(ranges,p-1)):\n",
    "                if(k<len(ranges)-1):\n",
    "                    ranges[k]=p\n",
    "                else:\n",
    "                    ranges[k:k]=[p]\n",
    "    return len(ranges)-1\n"
   ]
  },
  {
   "cell_type": "code",
   "execution_count": 111,
   "metadata": {},
   "outputs": [
    {
     "data": {
      "text/plain": [
       "True"
      ]
     },
     "execution_count": 111,
     "metadata": {},
     "output_type": "execute_result"
    }
   ],
   "source": [
    "lcs1('cbabac','abcabba') == lcs2(list('cbabac'),list('abcabba'))"
   ]
  },
  {
   "cell_type": "markdown",
   "metadata": {},
   "source": [
    "<a id='romeo'></a>\n",
    "### Romeo & Juliet\n"
   ]
  },
  {
   "cell_type": "code",
   "execution_count": 52,
   "metadata": {},
   "outputs": [],
   "source": [
    "import spacy\n",
    "from spacy.tokenizer import Tokenizer\n",
    "from spacy.lang.pl import Polish\n",
    "from typing import List"
   ]
  },
  {
   "cell_type": "markdown",
   "metadata": {},
   "source": [
    "#### Tokenize Romeo & Juliet"
   ]
  },
  {
   "cell_type": "code",
   "execution_count": 9,
   "metadata": {},
   "outputs": [],
   "source": [
    "nlp = spacy.blank(\"pl\")\n",
    "tokenizer = nlp.Defaults.create_tokenizer(nlp)\n",
    "\n",
    "f = open(\"romeo-i-julia.txt\", encoding='utf-8')\n",
    "rnj_text = ''.join(f.readlines())\n",
    "rnj_tok = tokenizer(rnj_text)"
   ]
  },
  {
   "cell_type": "markdown",
   "metadata": {},
   "source": [
    "Delete random tokens"
   ]
  },
  {
   "cell_type": "code",
   "execution_count": 99,
   "metadata": {},
   "outputs": [],
   "source": [
    "from random import random\n",
    "def delete_random(tokens, part: float):\n",
    "    res = []\n",
    "    for t in tokens:\n",
    "        if t.text == \"\\n\" or random() >= part:\n",
    "            res.append(t)\n",
    "    return res\n",
    "\n",
    "def save(tokens, to_file:str):\n",
    "    with open(to_file, 'w', encoding='utf-8') as f:\n",
    "        for token in tokens:\n",
    "            f.write(token.text_with_ws)\n",
    "        f.close"
   ]
  },
  {
   "cell_type": "markdown",
   "metadata": {},
   "source": [
    "#### Create 2 files with random tokens removed"
   ]
  },
  {
   "cell_type": "code",
   "execution_count": 105,
   "metadata": {},
   "outputs": [
    {
     "name": "stdout",
     "output_type": "stream",
     "text": [
      "original tokens: 32009\n",
      "tokens in rnj_tok1: 31133\n",
      "tokens in rnj_tok2: 31148\n"
     ]
    }
   ],
   "source": [
    "rnj_tok1 = delete_random(rnj_tok, 0.03)  # with deleted random 3%\n",
    "rnj_tok2 = delete_random(rnj_tok, 0.03)\n",
    "print(\"original tokens:\",len(rnj_tok))\n",
    "print(\"tokens in rnj_tok1:\",len(rnj_tok1))\n",
    "print(\"tokens in rnj_tok2:\",len(rnj_tok2))\n",
    "save(rnj_tok1, \"romeo-i-julia1.txt\")\n",
    "save(rnj_tok2, \"romeo-i-julia2.txt\")\n"
   ]
  },
  {
   "cell_type": "code",
   "execution_count": 115,
   "metadata": {},
   "outputs": [],
   "source": [
    "def lcs_matrix(x, y): \n",
    "    # works on lists of any kind of data with == defined (chars, tokens, struct)\n",
    "    c = [[0 for _ in range(len(y) + 1)] for _ in range(len(x) + 1)]\n",
    "\n",
    "    for i, xi in enumerate(x):\n",
    "        for j, yj in enumerate(y):\n",
    "            if xi == yj:\n",
    "                c[i][j] = 1 + c[i-1][j-1]\n",
    "            else:\n",
    "                c[i][j] = max(c[i][j-1], c[i-1][j])\n",
    "    return c\n",
    "\n",
    "def print_diff(c, x, y, i, j):\n",
    "    if i < 0 and j < 0:\n",
    "        return \"\"\n",
    "    elif i < 0:\n",
    "        print_diff(c, x, y, i, j-1)\n",
    "        print(f\">>> [{j}] {y[j]}\")\n",
    "    elif j < 0:\n",
    "        print_diff(c, x, y, i-1, j)\n",
    "        print(f\"<< [{i}] {x[i]}\")\n",
    "    elif x[i] == y[j]:\n",
    "        print_diff(c, x, y, i-1, j-1)\n",
    "    elif c[i][j-1] >= c[i-1][j]:\n",
    "        print_diff(c, x, y, i, j-1)\n",
    "        print(f\">>> [{j}] {y[j]}\")\n",
    "    elif c[i][j-1] < c[i-1][j]:\n",
    "        print_diff(c, x, y, i-1, j)\n",
    "        print(f\"<< [{i}] {x[i]}\")\n",
    "        \n",
    "def diff(x, y):\n",
    "    c = lcs_matrix(x, y)\n",
    "    return print_diff(c, x, y, len(x)-1, len(y)-1)\n"
   ]
  },
  {
   "cell_type": "code",
   "execution_count": 114,
   "metadata": {},
   "outputs": [
    {
     "name": "stdout",
     "output_type": "stream",
     "text": [
      "<< [2] i Julia\n",
      "\n",
      ">>> [2] Romeo i Julia\n",
      "\n",
      "<< [11]  * — młody Weroneńczyk szlachetnego rodu, krewny księcia\n",
      "\n",
      "<< [12]  * MONTEKI, KAPULET — naczelnicy dwóch domów nieprzyjaznych \n",
      "\n",
      "<< [13]  * STARZEC stryjeczny brat Kapuleta\n",
      "\n",
      "<< [14]  * — syn Montekiego\n",
      "\n",
      "<< [15]  * MERKUCJO krewny księcia\n",
      "\n",
      ">>> [11]  * PARYS — młody Weroneńczyk szlachetnego rodu, krewny księcia\n",
      "\n",
      ">>> [12]  * MONTEKI, KAPULET — naczelnicy dwóch domów nieprzyjaznych sobie\n",
      "\n",
      ">>> [13]  * STARZEC — stryjeczny brat Kapuleta\n",
      "\n",
      ">>> [14]  * ROMEO — syn Montekiego\n",
      "\n",
      ">>> [15]  * MERKUCJO — krewny księcia\n",
      "\n",
      "<< [21]  * SAMSON, GRZEGORZ słudzy Kapuleta\n",
      "\n",
      ">>> [21]  * SAMSON, GRZEGORZ — słudzy Kapuleta\n",
      "\n",
      "<< [32]  * Obywatele weroneńscy, różne osoby płci obojej, liczący się do przyjaciół obu domów, maski, straż wojskowa i inne osoby.\n",
      "\n",
      "<< [33] \n",
      "\n",
      "<< [34] \n",
      "\n",
      ">>> [32]  * Obywatele weroneńscy, różne osoby płci obojej, liczący się do przyjaciół obu domów, maski, straż wojskowa i inne .\n",
      "\n",
      "<< [37] Rzecz odbywa się przez większą część sztuki w Weronie, przez część aktu w Mantui.\n",
      "\n",
      ">>> [37] Rzecz odbywa się przez większą część sztuki w Weronie, przez część piątego aktu w Mantui.PROLOG\n",
      "\n",
      "<< [41] PROLOG\n",
      "\n",
      ">>> [39] Jan Kasprowicz\n",
      "\n",
      "<< [43] Przełożył Jan KasprowiczDwa rody, zacne jednako i sławne —\n",
      "\n",
      "<< [44] Tam, gdzie się rzecz ta rozgrywa, w Weronie,\n",
      "\n",
      ">>> [41] Dwa rody, zacne jednako i sławne —\n",
      "\n",
      ">>> [42] Tam, gdzie się rzecz ta rozgrywa, Weronie,\n",
      "\n",
      "<< [46] szlachetną krwią dłonie\n",
      "\n",
      ">>> [44] Plamiąc szlachetną krwią szlachetne dłonie\n",
      "\n",
      "<< [49] Pod najstraszliwszą z gwiazdkochanków dwoje;\n",
      "\n",
      "<< [50] Po pełnym nieszczęśliwych bycie\n",
      "\n",
      ">>> [47] Pod najstraszliwszą z gwiazd, kochanków dwoje\n",
      "\n",
      ">>> [48] Po pełnym przygód nieszczęśliwych bycie\n",
      "\n",
      "<< [54] I jak się ojców nienawiść nie zmienia,\n",
      "\n",
      ">>> [52] I jak się ojców nienawiść nie ,\n",
      "\n",
      "<< [58] Które otoczcie cierpliwymi względy\n",
      "\n",
      ">>> [56] Które otoczcie cierpliwymi względy,\n",
      "\n",
      "<< [70] / Plac publiczny. Wchodzą Samson i Grzegorz uzbrojeni w tarcze i miecze. /\n",
      "\n",
      ">>> [68] / Plac publiczny. Wchodzą i uzbrojeni w tarcze i miecze. /\n",
      "\n",
      "<< [79] \n",
      "\n",
      "<< [80] Ma się rozumieć, bobyśmy byli zdziercami.\n",
      "\n",
      ">>> [78] Ma rozumieć, bobyśmy byli zdziercami.\n",
      "\n",
      ">>> [81] SAMSON\n",
      "\n",
      "<< [95] Mam zwyczaj drapać zaraz, jak mię kto rozrucha.\n",
      "\n",
      ">>> [93] Mam zwyczaj drapać zaraz, jak mię rozrucha.\n",
      "\n",
      ">>> [97] \n",
      "\n",
      ">>> [98] Tak, ale nie zaraz zwykłeś się dać rozruchać.\n",
      "\n"
     ]
    }
   ],
   "source": [
    "with open(\"romeo-i-julia1.txt\", encoding='utf-8') as f1, open(\"romeo-i-julia2.txt\", encoding='utf-8') as f2:\n",
    "        diff(f1.readlines()[:100], f2.readlines()[:100])"
   ]
  }
 ],
 "metadata": {
  "kernelspec": {
   "display_name": "Python 3",
   "language": "python",
   "name": "python3"
  },
  "language_info": {
   "codemirror_mode": {
    "name": "ipython",
    "version": 3
   },
   "file_extension": ".py",
   "mimetype": "text/x-python",
   "name": "python",
   "nbconvert_exporter": "python",
   "pygments_lexer": "ipython3",
   "version": "3.7.6"
  }
 },
 "nbformat": 4,
 "nbformat_minor": 2
}
