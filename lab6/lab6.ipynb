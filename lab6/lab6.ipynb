{
 "cells": [
  {
   "cell_type": "markdown",
   "metadata": {},
   "source": [
    "Agnieszka Dutka\n",
    "# Laboratory 6 - Title .........................................\n",
    "\n",
    "Contents:  \n",
    "[0. KMP and Suffix Tree implementations](#0)  \n",
    "[1. Dictionary of basic factors](#1)   \n",
    "[2. Searching pattern with DBF](#2)  \n",
    "[3. DBF vs Suffix tree Construction time](#3)   \n",
    "[4. Real DBF size compared to file size](#4)  \n",
    "[5. DBF vs KMP search times comparison](#5)  \n",
    " \n"
   ]
  },
  {
   "cell_type": "markdown",
   "metadata": {},
   "source": [
    "<a id='0'></a>\n",
    "## --Suffix Tree--\n",
    "\n",
    "__Structures__"
   ]
  },
  {
   "cell_type": "code",
   "execution_count": null,
   "metadata": {},
   "outputs": [],
   "source": [
    "class TreeNode:\n",
    "    \"\"\" Node of Suffix Tree of text @text, representing indexes [@first, @last) \"\"\"\n",
    "    def __init__(self, text, first=0, last=0, parent=None): # defaults for root\n",
    "        self.first = first\n",
    "        self.last = last\n",
    "        self.text = text # whole text\n",
    "        self.parent = parent\n",
    "        self.children = {}\n",
    "        self.slink = None\n",
    "         \n",
    "    @property\n",
    "    def length(self):\n",
    "        return self.last - self.first       \n",
    "    \n",
    "    @property\n",
    "    def label(self):\n",
    "        return self.text[self.first : self.last]\n",
    "    \n",
    "    def add(self, first: int, last: int):\n",
    "        child = TreeNode(self.text, first, last, self)\n",
    "        self.children[self.text[first]] = child # add new child to parent\n",
    "        return child\n",
    "    \n",
    "    def split(self, offset):\n",
    "        new_parent_last = self.first+offset\n",
    "        new_parent = TreeNode(self.text, self.first, new_parent_last, self.parent)\n",
    "        new_parent.children[self.text[new_parent_last]] = self\n",
    "        self.parent.children[self.text[self.first]] = new_parent # change child\n",
    "        self.first = new_parent_last\n",
    "        self.parent = new_parent\n",
    "        return new_parent\n",
    "        \n",
    "    def child(self, c):\n",
    "        return self.children.get(c, None)\n",
    "    \n",
    "    def find(self, word: list):\n",
    "        if word is None:\n",
    "            return True\n",
    "        child = self.child(word[0])\n",
    "        if child is None:\n",
    "            return False\n",
    "        offset = 1\n",
    "        while offset < min(len(word), child.length):\n",
    "            if word[offset] != child.label[offset]:\n",
    "                return False\n",
    "            offset += 1\n",
    "        if offset == len(word):\n",
    "            return True\n",
    "        return child.find(word[offset:])\n",
    "    \n",
    "    def __str__(self, indent=0): # recursive display\n",
    "        return '%s%s\\n%s' % (indent * '  ', self.label, ''.join(\n",
    "                child.__str__(indent + 1)\n",
    "                for key, child in sorted(self.children.items())\n",
    "            )\n",
    "        )\n"
   ]
  },
  {
   "cell_type": "markdown",
   "metadata": {},
   "source": [
    "#### McCreight algorithm for Suffix Tree"
   ]
  },
  {
   "cell_type": "code",
   "execution_count": null,
   "metadata": {},
   "outputs": [],
   "source": [
    "def slow_find(node, first: int, last: int) -> (TreeNode, TreeNode):\n",
    "    \"\"\" inserts [first, last) into suffix tree starting with @node searching letter by letter.\n",
    "    @node: represents the potential head in each loop. \n",
    "    @return: head and added leaf \"\"\"\n",
    "    text = node.text\n",
    "    offset = 0  # where exactly in the current node we are (offset from node.first)\n",
    "    while node.child(text[first])  is not None: # looking for child with same first char \n",
    "        node = node.child(text[first]) # enter the child\n",
    "        while node.first + offset < node.last and first<len(text): # traverse nodes letters\n",
    "            if text[first] == text[node.first + offset]:\n",
    "                offset += 1\n",
    "                first += 1\n",
    "            else:  # we're in the middle of the node\n",
    "                node = node.split(offset) #CHANGED\n",
    "                leaf = node.add(first, last)\n",
    "                return node, leaf\n",
    "        offset = 0\n",
    "    leaf = node.add(first, last)\n",
    "    return node, leaf\n",
    "\n",
    "def fast_find(node, first: int , last: int) -> (TreeNode, int):\n",
    "    \"\"\" returns furthest node on path [first, lasts) and length it occupies in this node \n",
    "    e.g: given: abaabb path: (ab)(aab)b -> node(aab), length=3\"\"\"\n",
    "    assert node is not None\n",
    "    text = node.text\n",
    "    length = last - first\n",
    "    if length == 0:\n",
    "        return node, length\n",
    "    node = node.child(text[first])\n",
    "    while length > node.length: # skip entire node\n",
    "        first += node.length\n",
    "        length -= node.length\n",
    "        node = node.child(text[first])\n",
    "    return node, length\n",
    "\n",
    "def McCreight(text):\n",
    "    text_len = len(text)\n",
    "    root = TreeNode(text)\n",
    "    old_head = root\n",
    "    leaf = root.add(0, text_len)\n",
    "    for curr_i in range(1, text_len):\n",
    "        if old_head == root:    # new suffix to attach = old leaf [1:]\n",
    "            old_head, leaf = slow_find(root, leaf.first + 1, leaf.last)\n",
    "            continue\n",
    "        parent = old_head.parent\n",
    "        if parent == root:      # find \"highest\" slink (aX - X) where oldHead = aX\n",
    "            head_slink, h_len = fast_find(parent, old_head.first + 1, old_head.last)\n",
    "        else:                   # find some lower slink (B-B)\n",
    "            head_slink, h_len = fast_find(parent.slink, old_head.first, old_head.last)\n",
    "        if h_len < head_slink.length: # actual head_slink ends in the middle of current head_slink\n",
    "            head_slink = head_slink.split(h_len) # CHANGED\n",
    "            new_head = head_slink\n",
    "            leaf = new_head.add(leaf.first, leaf.last) # copy leaf \n",
    "        else:                   # head_slink is a node and has other children already - traverse children\n",
    "            new_head, leaf = slow_find(head_slink, leaf.first, leaf.last)\n",
    "        old_head.slink = head_slink # = head_slink\n",
    "        old_head = new_head\n",
    "\n",
    "    return root"
   ]
  },
  {
   "cell_type": "markdown",
   "metadata": {},
   "source": [
    "## --Knuth-Morris-Pratt algorithm--"
   ]
  },
  {
   "cell_type": "code",
   "execution_count": 2,
   "metadata": {},
   "outputs": [],
   "source": [
    "def prefix_function(pattern):\n",
    "    pi = [0]\n",
    "    k = 0\n",
    "    for q in range(1, len(pattern)):\n",
    "        while(k > 0 and pattern[k] != pattern[q]):\n",
    "            k = pi[k-1]\n",
    "        if(pattern[k] == pattern[q]):\n",
    "            k = k + 1\n",
    "        pi.append(k)\n",
    "    return pi\n",
    "\n",
    "def kmp_string_matching(text, pattern, pi):\n",
    "    res = 0\n",
    "    q = 0\n",
    "    for i in range(0, len(text)):\n",
    "        while(q > 0 and pattern[q] != text[i]):\n",
    "            q = pi[q-1]\n",
    "        if(pattern[q] == text[i]):\n",
    "            q = q + 1\n",
    "        if(q == len(pattern)):\n",
    "            res += 1\n",
    "            q = pi[q-1]\n",
    "    return res"
   ]
  },
  {
   "cell_type": "markdown",
   "metadata": {},
   "source": [
    "<a id='1'></a>\n",
    "## --DBF--\n"
   ]
  },
  {
   "cell_type": "code",
   "execution_count": 5,
   "metadata": {},
   "outputs": [],
   "source": [
    "def sort_rename(sequence):\n",
    "    last_entry = None\n",
    "    index = 0\n",
    "    position_to_index=[None]*len(sequence)\n",
    "    first_entry={}\n",
    "    for entry in sorted([(e,i)for i,e in enumerate(sequence)]):\n",
    "        if(last_entry and last_entry[0] != entry[0]):\n",
    "            index += 1\n",
    "            first_entry[index]=entry[1]\n",
    "        position_to_index[entry[1]]=index\n",
    "        if last_entry is None:\n",
    "            first_entry[0] = entry[1]\n",
    "        last_entry = entry\n",
    "    return (position_to_index, first_entry)"
   ]
  },
  {
   "cell_type": "code",
   "execution_count": 6,
   "metadata": {},
   "outputs": [
    {
     "data": {
      "text/plain": [
       "([1, 4, 2, 0, 3, 1], {0: 3, 1: 0, 2: 2, 3: 4, 4: 1})"
      ]
     },
     "execution_count": 6,
     "metadata": {},
     "output_type": "execute_result"
    }
   ],
   "source": [
    "sort_rename([(1,2),(3,1),(2,2),(1,1),(2,3),(1,2)])\n"
   ]
  },
  {
   "attachments": {
    "image.png": {
     "image/png": "[encoded data removed]"
    }
   },
   "cell_type": "markdown",
   "metadata": {},
   "source": [
    "## KMR algorithm\n",
    "\n",
    "based on the fact that:\n",
    "![image.png](attachment:image.png)"
   ]
  },
  {
   "cell_type": "code",
   "execution_count": 9,
   "metadata": {},
   "outputs": [],
   "source": [
    "import math\n",
    "\n",
    "def kmr(text):\n",
    "    txt_len = len(text)\n",
    "    factor = math.floor(math.log2(txt_len))\n",
    "    max_len = 2**factor\n",
    "    padding_len = 2**(factor+1)-1\n",
    "    text += \"z\"*padding_len\n",
    "    \n",
    "    pos_to_idx, first_entry = sort_rename(list(text))\n",
    "    names = {1: pos_to_idx}\n",
    "    entries = {1: first_entry}\n",
    "    for i in range(1, factor):\n",
    "        power = 2**(i-1)\n",
    "        new_seq = []\n",
    "        for j in range(len(text)):\n",
    "            if j+power < len(names[power]):\n",
    "                new_seq.append((names[power][j], names[power][j+power]))\n",
    "        pos_to_idx, first_entry = sort_rename(new_seq)\n",
    "        names[power*2] = pos_to_idx\n",
    "        entries[power*2] = first_entry\n",
    "    return (names, entries)"
   ]
  },
  {
   "cell_type": "code",
   "execution_count": 11,
   "metadata": {},
   "outputs": [
    {
     "name": "stdout",
     "output_type": "stream",
     "text": [
      "names:\n",
      "1 [1, 2, 2, 1, 2, 2, 1, 2, 1]\n",
      "2 [1, 4, 3, 1, 4, 3, 1, 3, 2]\n",
      "4 [2, 7, 5, 2, 7, 4, 1, 6, 3]\n",
      "\n",
      "positions:\n",
      "1 [1, 2]\n",
      "2 [1, 9, 3, 2]\n",
      "4 [7, 1, 9, 6, 3, 8, 2]\n"
     ]
    }
   ],
   "source": [
    "text=\"abbabbaba\"\n",
    "names, entries=kmr(text)\n",
    "print(\"names:\")\n",
    "for k,v in names.items():\n",
    "    print(k,[e+1 for e in v[:len(text)]])\n",
    "    \n",
    "print(\"\\npositions:\")\n",
    "for k,v in entries.items():\n",
    "    print(k,[v[e]+1 for e in range(len(v)-1)])"
   ]
  }
 ],
 "metadata": {
  "kernelspec": {
   "display_name": "Python 3",
   "language": "python",
   "name": "python3"
  },
  "language_info": {
   "codemirror_mode": {
    "name": "ipython",
    "version": 3
   },
   "file_extension": ".py",
   "mimetype": "text/x-python",
   "name": "python",
   "nbconvert_exporter": "python",
   "pygments_lexer": "ipython3",
   "version": "3.7.6"
  }
 },
 "nbformat": 4,
 "nbformat_minor": 4
}
