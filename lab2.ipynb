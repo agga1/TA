{
 "cells": [
  {
   "cell_type": "markdown",
   "metadata": {},
   "source": [
    "Agnieszka Dutka"
   ]
  },
  {
   "cell_type": "markdown",
   "metadata": {},
   "source": [
    "# Text algorithms, lab 2\n",
    "#### *comparing suffix Trie and suffix Tree structures*"
   ]
  },
  {
   "cell_type": "markdown",
   "metadata": {},
   "source": [
    "##  --Suffix Trie--"
   ]
  },
  {
   "cell_type": "markdown",
   "metadata": {},
   "source": [
    "### Useful structures"
   ]
  },
  {
   "cell_type": "code",
   "execution_count": 1,
   "metadata": {},
   "outputs": [],
   "source": [
    "class Node:\n",
    "    idx = -1\n",
    "    def __init__(self, c, parent=None, depth=0):\n",
    "        self.c = c\n",
    "        self.parent = parent\n",
    "        self.depth = depth\n",
    "        self.children = {}\n",
    "        self.link = None\n",
    "        self.idx = self.next_idx()\n",
    "    \n",
    "    def child(self, c):\n",
    "        \"\"\" find child with label c \"\"\"\n",
    "        return self.children.get(c, None)\n",
    "        \n",
    "    def add_child(self, c):\n",
    "        if c in self.children.keys():\n",
    "            print(\"child already exists\")\n",
    "            return self.children[c]\n",
    "        self.children[c] = Node(c, self, self.depth+1)\n",
    "        return self.children[c]\n",
    "    \n",
    "    def find(self, word: list):\n",
    "        \"\"\" find word in a trie of which self is root \"\"\"\n",
    "        if len(word) == 0:\n",
    "            return True\n",
    "        if self.child(word[0]) is None:\n",
    "            return False\n",
    "        return self.child(word[0]).find(word[1:])\n",
    "    \n",
    "    def next_idx(self):  \n",
    "        \"\"\" finding unique idx for each node (idx of last-added node = size of trie-1)\n",
    "        (unless several tries created at once)\"\"\"\n",
    "        if not self.parent:\n",
    "            Node.idx = -1\n",
    "        Node.idx += 1\n",
    "        return Node.idx\n",
    "    \n",
    "    def __repr__(self):\n",
    "        return f\"{self.c}-{self.idx}\""
   ]
  },
  {
   "cell_type": "markdown",
   "metadata": {},
   "source": [
    "### Suffix Trie implementation"
   ]
  },
  {
   "cell_type": "code",
   "execution_count": 3,
   "metadata": {},
   "outputs": [],
   "source": [
    "from queue import LifoQueue as queue \n",
    "\n",
    "def up_link_down(sibling):\n",
    "    letters = queue()\n",
    "    while(sibling and not sibling.link):\n",
    "        letters.put(sibling.c)\n",
    "        sibling=sibling.parent\n",
    "    if(not sibling):\n",
    "        return(None,None)\n",
    "    node=sibling.link\n",
    "    current_letter=letters.get()\n",
    "    while(current_letter):\n",
    "        if(node.child(current_letter)):\n",
    "            node=node.child(current_letter)\n",
    "            sibling=sibling.child(current_letter)\n",
    "            sibling.link = node\n",
    "        else:\n",
    "            break\n",
    "        current_letter=letters.get()\n",
    "    return(node,sibling)\n",
    "\n",
    "def graft(node, fragment, sibling=None):\n",
    "#     print(f\"adding fragment length {len(fragment)}, {fragment}\")\n",
    "    for letter in list(fragment):\n",
    "        node = node.add_child(letter)\n",
    "        if(sibling):\n",
    "            sibling=sibling.child(letter)\n",
    "            sibling.link = node\n",
    "    return node\n",
    "\n",
    "\"\"\" building trie \"\"\"\n",
    "def left_to_right(text):\n",
    "    root = Node(\"\")\n",
    "    leaf = graft(root, text)\n",
    "    root.child(text[0]).link = root\n",
    "    for i in range(1, len(text)):\n",
    "        head, sibling = up_link_down(leaf)\n",
    "        if not head:\n",
    "            print(\"not head\")\n",
    "            sibling = root.child(text[i-1]) # redundant?\n",
    "            sibling.link = root\n",
    "            head = root\n",
    "        leaf = graft(head,text[i+head.depth:],sibling)\n",
    "        root.child(text[i]).link = root # experimental\n",
    "    return root\n"
   ]
  },
  {
   "cell_type": "markdown",
   "metadata": {},
   "source": [
    "### Suffix Trie checker"
   ]
  },
  {
   "cell_type": "code",
   "execution_count": 4,
   "metadata": {},
   "outputs": [],
   "source": [
    "def check(trie, text, w_print=False):\n",
    "    \"\"\" check if trie contains all suffixes from text\"\"\"\n",
    "    for i in range(len(text)):\n",
    "        if not trie.find(text[i:]):\n",
    "            if w_print:\n",
    "                print(f\"suffix {text[i:]} not found\")\n",
    "            return False\n",
    "    if w_print:\n",
    "        print(\"trie correct\")\n",
    "    return True"
   ]
  },
  {
   "cell_type": "code",
   "execution_count": 5,
   "metadata": {},
   "outputs": [
    {
     "name": "stdout",
     "output_type": "stream",
     "text": [
      "trie correct\n"
     ]
    },
    {
     "data": {
      "text/plain": [
       "True"
      ]
     },
     "execution_count": 5,
     "metadata": {},
     "output_type": "execute_result"
    }
   ],
   "source": [
    "text = \"bbbd\"\n",
    "trie = left_to_right(text)\n",
    "check(trie, text, True)"
   ]
  },
  {
   "cell_type": "code",
   "execution_count": 6,
   "metadata": {},
   "outputs": [
    {
     "name": "stdout",
     "output_type": "stream",
     "text": [
      "trie correct\n"
     ]
    },
    {
     "data": {
      "text/plain": [
       "True"
      ]
     },
     "execution_count": 6,
     "metadata": {},
     "output_type": "execute_result"
    }
   ],
   "source": [
    "text = \"aabbabd\"\n",
    "trie = left_to_right(text)\n",
    "check(trie, text, True)"
   ]
  },
  {
   "cell_type": "code",
   "execution_count": 7,
   "metadata": {},
   "outputs": [
    {
     "name": "stdout",
     "output_type": "stream",
     "text": [
      "trie correct\n"
     ]
    },
    {
     "data": {
      "text/plain": [
       "True"
      ]
     },
     "execution_count": 7,
     "metadata": {},
     "output_type": "execute_result"
    }
   ],
   "source": [
    "text = \"ababcd\"\n",
    "trie = left_to_right(text)\n",
    "check(trie, text, True)"
   ]
  },
  {
   "cell_type": "code",
   "execution_count": 8,
   "metadata": {},
   "outputs": [
    {
     "name": "stdout",
     "output_type": "stream",
     "text": [
      "trie correct\n"
     ]
    },
    {
     "data": {
      "text/plain": [
       "True"
      ]
     },
     "execution_count": 8,
     "metadata": {},
     "output_type": "execute_result"
    }
   ],
   "source": [
    "text = \"abcbccd\"\n",
    "trie = left_to_right(text)\n",
    "check(trie, text, True)"
   ]
  },
  {
   "cell_type": "code",
   "execution_count": 9,
   "metadata": {},
   "outputs": [
    {
     "name": "stdout",
     "output_type": "stream",
     "text": [
      "246472\n",
      "trie correct\n"
     ]
    },
    {
     "data": {
      "text/plain": [
       "True"
      ]
     },
     "execution_count": 9,
     "metadata": {},
     "output_type": "execute_result"
    }
   ],
   "source": [
    "# file\n",
    "f = open(\"1997_714.txt\", \"r\", encoding='utf-8')\n",
    "text = ''.join(f.readlines())\n",
    "print(len(text))\n",
    "text = text[:1000]\n",
    "text += chr(27)\n",
    "trie = left_to_right(text)\n",
    "check(trie, text, True)"
   ]
  },
  {
   "cell_type": "code",
   "execution_count": 15,
   "metadata": {},
   "outputs": [
    {
     "name": "stdout",
     "output_type": "stream",
     "text": [
      "a!\n"
     ]
    }
   ],
   "source": [
    "string = \"a\"+chr(33)\n",
    "print(string)"
   ]
  },
  {
   "cell_type": "code",
   "execution_count": 10,
   "metadata": {},
   "outputs": [
    {
     "name": "stdout",
     "output_type": "stream",
     "text": [
      "bbbaaacggggaababaabbbbbaaacggggaababaabbbbbaaacggggaababaabbbbbaaacggggaababaabbbbbaaacggggaababaabbbbbaaacggggaababaabbbbbaaacggggaababaabbbbbaaacggggaababaabbbbbaaacggggaababaabbbbbaaacggggaababaabbbbbaaacggggaababaabbbbbaaacggggaababaabbbbbaaacggggaababaabbbbbaaacggggaababaabbbbbaaacggggaababaabbbbbaaacggggaababaabbbbbaaacggggaababaabbbbbaaacggggaababaabbbbbaaacggggaababaabbbbbaaacggggaababaabbbbbaaacggggaababaabbbbbaaacggggaababaabbbbbaaacggggaababaabbbbbaaacggggaababaabbbbbaaacggggaababaabbbbbaaacggggaababaabbbbbaaacggggaababaabbbbbaaacggggaababaabbbbbaaacggggaababaabbbbbaaacggggaababaabbbbbaaacggggaababaabbbbbaaacggggaababaabbbbbaaacggggaababaabbbbbaaacggggaababaabbbbbaaacggggaababaabbbbbaaacggggaababaabbbbbaaacggggaababaabbbbbaaacggggaababaabbbbbaaacggggaababaabbbbbaaacggggaababaabbbbbaaacggggaababaabbbbbaaacggggaababaabbbbbaaacggggaababaabbbbbaaacggggaababaabbbbbaaacggggaababaabbbbbaaacggggaababaabbbbbaaacggggaababaabbbbbaaacggggaababaabbbbbaaacggggaababaabbbbbaaacggggaababaabbx\n",
      "trie correct\n"
     ]
    },
    {
     "data": {
      "text/plain": [
       "True"
      ]
     },
     "execution_count": 10,
     "metadata": {},
     "output_type": "execute_result"
    }
   ],
   "source": [
    "text = \"bbbaaacggggaababaabb\"*50\n",
    "text+=\"x\"\n",
    "print(text)\n",
    "trie = left_to_right(text)\n",
    "check(trie, text, True)"
   ]
  }
 ],
 "metadata": {
  "kernelspec": {
   "display_name": "Python 3",
   "language": "python",
   "name": "python3"
  },
  "language_info": {
   "codemirror_mode": {
    "name": "ipython",
    "version": 3
   },
   "file_extension": ".py",
   "mimetype": "text/x-python",
   "name": "python",
   "nbconvert_exporter": "python",
   "pygments_lexer": "ipython3",
   "version": "3.7.4"
  }
 },
 "nbformat": 4,
 "nbformat_minor": 2
}
