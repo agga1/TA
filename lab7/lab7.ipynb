{
 "cells": [
  {
   "cell_type": "markdown",
   "metadata": {},
   "source": [
    "<a id='top'></a>\n",
    "Agnieszka Dutka\n",
    "# Laboratory 7-  Regular expressions\n",
    "\n",
    "Contents:  \n",
    "[Finite automata for Regex finding](#0)  \n",
    "[Example usage](#1)\n",
    "[Tests](#2)"
   ]
  },
  {
   "cell_type": "markdown",
   "metadata": {},
   "source": [
    "<a id='0'></a>\n",
    "## Finite automata for Regex finding\n",
    "\n",
    "To implement regex matching, I first convert regular expression to reverse polish notation, and then to non-deterministic finite automata, as explained in:\n",
    "\n",
    "https://deniskyashif.com/2019/02/17/implementing-a-regular-expression-engine/\n",
    "and:\n",
    "https://en.wikipedia.org/wiki/Thompson%27s_construction\n",
    "\n",
    "\n",
    "Nondeterministic finite automata structures"
   ]
  },
  {
   "cell_type": "code",
   "execution_count": 18,
   "metadata": {},
   "outputs": [],
   "source": [
    "class State:\n",
    "    def __init__(self, is_final=False, e_trans=None):\n",
    "        self.is_final = is_final\n",
    "        self.transitions = {}\n",
    "        self.e_transitions = [] if e_trans is None else e_trans\n",
    "\n",
    "    def add_trans(self, to, symbol):\n",
    "        assert not self.is_final, \"cannot add (non-empty) transition from non-final state\"\n",
    "        self.transitions[symbol] = to\n",
    "\n",
    "    def add_e_trans(self, to):\n",
    "        self.e_transitions.append(to)\n",
    "        self.is_final = False  # if state was final, it no longer is\n",
    "\n",
    "    def get_all_trans(self, char):\n",
    "        \"\"\" get all transitions reachable by 'char' transition (checks for . also) \"\"\"\n",
    "        trans = []\n",
    "        if char in self.transitions:\n",
    "            trans += self.transitions[char].get_all_e_trans()\n",
    "        if '.' in self.transitions:\n",
    "            trans += self.transitions['.'].get_all_e_trans()\n",
    "        return trans\n",
    "\n",
    "    def get_all_e_trans(self, curr_set=None):\n",
    "        \"\"\" recursively gets all e-transitions reachable from self. \"\"\"\n",
    "        curr_set = set() if curr_set is None else curr_set\n",
    "\n",
    "        if not self.e_transitions:\n",
    "            curr_set.add(self)\n",
    "\n",
    "        for state in self.e_transitions:\n",
    "            if state not in curr_set:\n",
    "                curr_set.add(state)\n",
    "                state.get_all_e_trans(curr_set)\n",
    "\n",
    "        return curr_set\n",
    "\n",
    "    def __repr__(self):\n",
    "        return \"final\" if self.is_final else f\"tr: {self.transitions.keys()}\\n {self.e_transitions}\"\n",
    "\n",
    "\n",
    "class Nfa:\n",
    "    def __init__(self, start, finish):\n",
    "        self.start = start\n",
    "        self.finish = finish\n",
    "\n",
    "    def set(self, start, finish):\n",
    "        self.start = start\n",
    "        self.finish = finish\n",
    "\n",
    "    def follow(self, other):\n",
    "        \"\"\" add nfa at the end of self \"\"\"\n",
    "        self.finish.add_e_trans(other.start)\n",
    "        self.finish = other.finish\n",
    "\n",
    "    def join(self, other):\n",
    "        \"\"\" join two parallel nfas \"\"\"\n",
    "        start = State(e_trans=[self.start, other.start])\n",
    "        finish = State(is_final=True)\n",
    "        self.finish.add_e_trans(finish)\n",
    "        other.finish.add_e_trans(finish)\n",
    "        self.set(start, finish)\n",
    "\n",
    "    def cycle(self):\n",
    "        self.finish.add_e_trans(self.start)\n",
    "        self.pad_with_e()\n",
    "\n",
    "    def maybe(self):\n",
    "        self.pad_with_e()\n",
    "        self.start.add_e_trans(self.finish)\n",
    "\n",
    "    def pad_with_e(self):\n",
    "        \"\"\" pad start and finish with e-transitions \"\"\"\n",
    "        start = State(e_trans=[self.start])\n",
    "        finish = State(is_final=True)\n",
    "        self.finish.add_e_trans(finish)\n",
    "        self.set(start, finish)\n"
   ]
  },
  {
   "cell_type": "code",
   "execution_count": 86,
   "metadata": {},
   "outputs": [],
   "source": [
    "from string import ascii_letters, ascii_lowercase, ascii_uppercase, digits, whitespace\n",
    "\n",
    "operators = ['|', '*', '+', '?', '^']  # ^ - concatenation\n",
    "priority = {'|': 0, '^': 1, '*': 2, '+': 2, '?': 2}\n",
    "\n",
    "class Regex:\n",
    "    def __init__(self, regex):\n",
    "        pre = self.rmv_classes_and_divide(regex)\n",
    "        rpn = self.to_rpn(pre)\n",
    "        self.nfa = self.nfa_from_rpn(rpn)\n",
    "\n",
    "    @staticmethod\n",
    "    def rmv_classes_and_divide(regex: str):\n",
    "        \"\"\"\n",
    "            convert regex with classes to simple regex, and divide expressions with marker (^)\n",
    "        \"\"\"\n",
    "\n",
    "        def get_class(symbol):  # predefined characters classes\n",
    "            if symbol == 'd':\n",
    "                return digits  # 0-9\n",
    "            if symbol == 's':\n",
    "                return whitespace  # all whitespace characters\n",
    "            if symbol == 'c':\n",
    "                return ascii_letters  # lower and uppercase\n",
    "            if symbol == 'w':\n",
    "                return ascii_letters + digits  # all letters and digits\n",
    "            if symbol == 'l':\n",
    "                return ascii_lowercase  # a-z\n",
    "            if symbol == 'u':\n",
    "                return ascii_uppercase  # A-Z\n",
    "\n",
    "        expr = \"\"\n",
    "        i = 0\n",
    "        while i < len(regex):\n",
    "            if regex[i] == '\\\\':  # predefined class\n",
    "                ors = '|'.join(get_class(regex[i + 1]))\n",
    "                expr += \"^(\" + ors + \")\"\n",
    "                i += 1\n",
    "            elif regex[i] == '[':  # user-created class\n",
    "                clas = []\n",
    "                j = i + 1\n",
    "                while regex[j] != ']':\n",
    "                    clas.append(regex[j])\n",
    "                    j += 1\n",
    "                ors = '|'.join(clas)\n",
    "                expr += \"^(\" + ors + \")\"\n",
    "                i = j\n",
    "\n",
    "            else:\n",
    "                if i > 0 and regex[i] not in operators and regex[i - 1] not in {'|', '(', ')'}:\n",
    "                    expr += '^'\n",
    "                expr += regex[i]\n",
    "            i += 1\n",
    "        return expr\n",
    "\n",
    "    @staticmethod\n",
    "    def to_rpn(regex: str):\n",
    "        \"\"\"\n",
    "            convert regex expression (with markers and without classes) to reverse polish notation\n",
    "        \"\"\"\n",
    "        rpn = \"\"\n",
    "        st = []  # current operators stack\n",
    "\n",
    "        for c in regex:\n",
    "            if c == '(':\n",
    "                st.append(c)\n",
    "            elif c == ')':\n",
    "                while st[-1] != '(':\n",
    "                    rpn += st.pop()\n",
    "                st.pop()\n",
    "            elif c in operators:\n",
    "                while len(st) > 0 and st[-1] != '(' and priority[st[-1]] >= priority[c]:\n",
    "                    rpn += st.pop()\n",
    "                st.append(c)\n",
    "            else:\n",
    "                rpn += c\n",
    "\n",
    "        return rpn + ''.join(reversed(st))  # add remaining operators\n",
    "\n",
    "    @staticmethod\n",
    "    def nfa_from_rpn(rpn: str):\n",
    "        \"\"\" build nfa from given rpn \"\"\"\n",
    "        def singular_nfa(char):\n",
    "            start, finish = State(), State(is_final=True)\n",
    "            start.add_trans(finish, char)\n",
    "            return Nfa(start, finish)\n",
    "        st = []  # nfa-stack\n",
    "        for c in rpn:\n",
    "            if c in operators:\n",
    "                nfa = st.pop()  # pop nfa from stack and modify\n",
    "                if c == '*':\n",
    "                    nfa.cycle()\n",
    "                    nfa.maybe()\n",
    "                elif c == '|':\n",
    "                    other = st.pop()\n",
    "                    nfa.join(other)\n",
    "                elif c == '+':\n",
    "                    nfa.cycle()\n",
    "                elif c == '?':\n",
    "                    nfa.maybe()\n",
    "                else:  # concatenate nfas\n",
    "                    first = st.pop()\n",
    "                    first.follow(nfa)\n",
    "                    nfa = first\n",
    "                st.append(nfa)\n",
    "            else:\n",
    "                st.append(singular_nfa(c))\n",
    "\n",
    "        nfa = st.pop()  # created nfa at the top of the stack\n",
    "        return nfa\n",
    "\n",
    "    def match(self, pattern: str, show=True):\n",
    "        \"\"\" checks if regex matches pattern exactly (a matches only a, not: ba, ab ...)\"\"\"\n",
    "        curr = self.nfa.start.get_all_e_trans()\n",
    "        for char in pattern:\n",
    "            nxt = []\n",
    "            for state in curr:\n",
    "                nxt += state.get_all_trans(char)\n",
    "            curr = nxt\n",
    "\n",
    "        if any(state.is_final for state in curr):\n",
    "            if show:\n",
    "                print(\"✔️\")\n",
    "            else:\n",
    "                return True\n",
    "        else:\n",
    "            if show:\n",
    "                    print(\"❌\")\n",
    "            else:\n",
    "                return False\n",
    "\n",
    "    def find(self, text, show=False):\n",
    "        \"\"\" find all occurrences of this regex in given text \"\"\"\n",
    "        res = []\n",
    "        for idx, char in enumerate(text):\n",
    "            curr = self.nfa.start.get_all_e_trans()\n",
    "            i = idx\n",
    "            while i < len(text) and curr:\n",
    "                char = text[i]\n",
    "                nxt = []\n",
    "                for state in curr:\n",
    "                    nxt += state.get_all_trans(char)\n",
    "                curr = nxt\n",
    "                for state in curr:\n",
    "                    if state.is_final:\n",
    "                        res.append(idx)\n",
    "                i += 1\n",
    "        if show:\n",
    "            print(\"mathes found at:\", res)\n",
    "        else:\n",
    "            return res\n"
   ]
  },
  {
   "cell_type": "code",
   "execution_count": 87,
   "metadata": {},
   "outputs": [],
   "source": [
    "from time import perf_counter\n",
    "\n",
    "def eval_func(func, args, count=4, show=True):\n",
    "    start = perf_counter()\n",
    "    for i in range(0, count):\n",
    "        func(*args)\n",
    "    end = perf_counter()\n",
    "    average = (end-start)/count\n",
    "    if show:\n",
    "        print(average)\n",
    "    else:\n",
    "        return average"
   ]
  },
  {
   "cell_type": "markdown",
   "metadata": {},
   "source": [
    "## Example usage\n",
    "<a id='1'></a>"
   ]
  },
  {
   "cell_type": "code",
   "execution_count": 88,
   "metadata": {},
   "outputs": [
    {
     "name": "stdout",
     "output_type": "stream",
     "text": [
      "✔️\n",
      "❌\n",
      "❌\n",
      "mathes found at: [1, 4]\n"
     ]
    }
   ],
   "source": [
    "expr = Regex(\"abc\")\n",
    "expr.match(\"abc\")\n",
    "expr.match(\"aabc\")\n",
    "expr.match(\"ac\")\n",
    "\n",
    "expr.find(\"aabcabc\", True)"
   ]
  },
  {
   "cell_type": "markdown",
   "metadata": {},
   "source": [
    "## Tests\n",
    "<a id='2'></a>"
   ]
  },
  {
   "cell_type": "markdown",
   "metadata": {},
   "source": [
    "Literals"
   ]
  },
  {
   "cell_type": "code",
   "execution_count": 36,
   "metadata": {},
   "outputs": [
    {
     "name": "stdout",
     "output_type": "stream",
     "text": [
      "✔️\n",
      "❌\n",
      "❌\n",
      "mathes found at: [1, 4]\n",
      "❌\n",
      "✔️\n",
      "❌\n",
      "mathes found at: [0, 1, 4]\n"
     ]
    }
   ],
   "source": [
    "expr = Regex(\"abc\")\n",
    "expr.match(\"abc\")\n",
    "expr.match(\"aabc\")\n",
    "expr.match(\"ac\")\n",
    "\n",
    "expr.find(\"aabcabc\", True)\n",
    "\n",
    "expr = Regex(\"a\")\n",
    "expr.match(\"abc\")\n",
    "expr.match(\"a\")\n",
    "expr.match(\"bac\")\n",
    "\n",
    "expr.find(\"aabcabc\", True)"
   ]
  },
  {
   "cell_type": "markdown",
   "metadata": {},
   "source": [
    "."
   ]
  },
  {
   "cell_type": "code",
   "execution_count": 89,
   "metadata": {},
   "outputs": [
    {
     "name": "stdout",
     "output_type": "stream",
     "text": [
      "✔️\n",
      "❌\n",
      "✔️\n",
      "❌\n",
      "mathes found at: [0]\n",
      "mathes found at: [0, 1]\n",
      "✔️\n",
      "❌\n",
      "❌\n",
      "❌\n",
      "mathes found at: [0, 1, 2, 3]\n",
      "mathes found at: [0, 1, 2, 3]\n"
     ]
    }
   ],
   "source": [
    "expr = Regex(\"a.c\")\n",
    "\n",
    "expr.match(\"abc\")\n",
    "expr.match(\"ac\")\n",
    "expr.match(\"acc\")\n",
    "expr.match(\"addc\")\n",
    "\n",
    "expr.find(\"accc\", True)\n",
    "expr.find(\"aacc\", True)\n",
    "\n",
    "expr = Regex(\".\")\n",
    "\n",
    "expr.match(\"a\")\n",
    "expr.match(\"ac\")\n",
    "expr.match(\"acc\")\n",
    "expr.match(\"addc\")\n",
    "\n",
    "expr.find(\"accc\", True)\n",
    "expr.find(\"aacc\", True)"
   ]
  },
  {
   "cell_type": "markdown",
   "metadata": {},
   "source": [
    "*, +, ?"
   ]
  },
  {
   "cell_type": "code",
   "execution_count": 90,
   "metadata": {},
   "outputs": [
    {
     "name": "stdout",
     "output_type": "stream",
     "text": [
      "✔️\n",
      "✔️\n",
      "✔️\n",
      "❌\n",
      "mathes found at: [0, 1]\n"
     ]
    }
   ],
   "source": [
    "expr = Regex(\"a*c\")\n",
    "\n",
    "expr.match(\"c\")\n",
    "expr.match(\"ac\")\n",
    "expr.match(\"aac\")\n",
    "expr.match(\"acc\") # x\n",
    "\n",
    "expr.find(\"acb\", True)\n"
   ]
  },
  {
   "cell_type": "code",
   "execution_count": 91,
   "metadata": {},
   "outputs": [
    {
     "name": "stdout",
     "output_type": "stream",
     "text": [
      "✔️\n",
      "✔️\n",
      "❌\n",
      "❌\n",
      "✔️\n",
      "✔️\n"
     ]
    },
    {
     "data": {
      "text/plain": [
       "[6]"
      ]
     },
     "execution_count": 91,
     "metadata": {},
     "output_type": "execute_result"
    }
   ],
   "source": [
    "expr = Regex(\"alexa? has 2+1* cats\")\n",
    "\n",
    "expr.match(\"alexa has 21 cats\")\n",
    "expr.match(\"alex has 21 cats\")\n",
    "expr.match(\"alexaa has 21 cats\") # x\n",
    "expr.match(\"alexa has 1 cats\") # x\n",
    "expr.match(\"alexa has 22 cats\")\n",
    "expr.match(\"alexa has 2221111 cats\")\n",
    "\n",
    "expr.find(\"I bet alexa has 22 cats today.\")\n"
   ]
  },
  {
   "cell_type": "markdown",
   "metadata": {},
   "source": [
    "()"
   ]
  },
  {
   "cell_type": "code",
   "execution_count": 65,
   "metadata": {},
   "outputs": [
    {
     "name": "stdout",
     "output_type": "stream",
     "text": [
      "✔️\n",
      "✔️\n",
      "✔️\n",
      "❌\n",
      "✔️\n",
      "✔️\n"
     ]
    }
   ],
   "source": [
    "expr = Regex(\"ba(na)*s\")\n",
    "expr2 = Regex(\"ba(na)+s\")\n",
    "\n",
    "expr.match(\"bas\")\n",
    "expr.match(\"banas\")\n",
    "expr.match(\"banananas\")\n",
    "\n",
    "expr2.match(\"bas\") # x\n",
    "expr2.match(\"banas\")\n",
    "expr2.match(\"banas\")\n"
   ]
  },
  {
   "cell_type": "code",
   "execution_count": 64,
   "metadata": {},
   "outputs": [
    {
     "name": "stdout",
     "output_type": "stream",
     "text": [
      "✔️\n",
      "✔️\n",
      "❌\n",
      "✔️\n"
     ]
    }
   ],
   "source": [
    "expr = Regex(\"(ve(r)+y )?(nice) weather\")\n",
    "\n",
    "expr.match(\"very nice weather\")\n",
    "expr.match(\"verry nice weather\") \n",
    "expr.match(\"vey nice weather\") # x\n",
    "expr.match(\"nice weather\")\n"
   ]
  },
  {
   "cell_type": "markdown",
   "metadata": {},
   "source": [
    "classes"
   ]
  },
  {
   "cell_type": "code",
   "execution_count": 70,
   "metadata": {},
   "outputs": [
    {
     "name": "stdout",
     "output_type": "stream",
     "text": [
      "✔️\n",
      "✔️\n",
      "❌\n"
     ]
    }
   ],
   "source": [
    "expr = Regex(\"f[au]rther\")\n",
    "\n",
    "expr.match(\"further\")\n",
    "expr.match(\"farther\")\n",
    "expr.match(\"ferther\")\n"
   ]
  },
  {
   "cell_type": "code",
   "execution_count": 72,
   "metadata": {},
   "outputs": [
    {
     "name": "stdout",
     "output_type": "stream",
     "text": [
      "✔️\n",
      "❌\n",
      "❌\n"
     ]
    }
   ],
   "source": [
    "expr = Regex(\"f\\drther\")  # digits\n",
    "\n",
    "expr.match(\"f1rther\")\n",
    "expr.match(\"f00rther\")\n",
    "expr.match(\"ferther\")"
   ]
  },
  {
   "cell_type": "code",
   "execution_count": 85,
   "metadata": {},
   "outputs": [
    {
     "name": "stdout",
     "output_type": "stream",
     "text": [
      "❌\n",
      "✔️\n",
      "❌\n"
     ]
    }
   ],
   "source": [
    "expr = Regex(\"me\\l\")  # lowercase\n",
    "\n",
    "expr.match(\"me\")\n",
    "expr.match(\"meh\")\n",
    "expr.match(\"meH\")"
   ]
  }
 ],
 "metadata": {
  "kernelspec": {
   "display_name": "Python 3",
   "language": "python",
   "name": "python3"
  },
  "language_info": {
   "codemirror_mode": {
    "name": "ipython",
    "version": 3
   },
   "file_extension": ".py",
   "mimetype": "text/x-python",
   "name": "python",
   "nbconvert_exporter": "python",
   "pygments_lexer": "ipython3",
   "version": "3.7.6"
  }
 },
 "nbformat": 4,
 "nbformat_minor": 4
}
