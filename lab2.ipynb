{
 "cells": [
  {
   "cell_type": "markdown",
   "metadata": {},
   "source": [
    "Agnieszka Dutka"
   ]
  },
  {
   "cell_type": "markdown",
   "metadata": {},
   "source": [
    "# Text algorithms, lab 2\n",
    "### *Trie vs Tree structure*\n",
    "Skip to Contents:\n",
    "[Suffix trie](#trie)\n",
    "[Suffix Tree](#tree) \n",
    "[Comparision](#tests)"
   ]
  },
  {
   "cell_type": "markdown",
   "metadata": {},
   "source": [
    "<a id='trie'></a>\n",
    "##  --Suffix Trie--"
   ]
  },
  {
   "cell_type": "markdown",
   "metadata": {},
   "source": [
    "#### Useful structures"
   ]
  },
  {
   "cell_type": "code",
   "execution_count": 2,
   "metadata": {},
   "outputs": [],
   "source": [
    "class Node:\n",
    "    idx = -1\n",
    "    def __init__(self, c, parent=None, depth=0):\n",
    "        self.c = c\n",
    "        self.parent = parent\n",
    "        self.depth = depth\n",
    "        self.children = {}\n",
    "        self.link = None\n",
    "        self.idx = self.next_idx()\n",
    "    \n",
    "    def child(self, c):\n",
    "        \"\"\" find child with label c \"\"\"\n",
    "        return self.children.get(c, None)\n",
    "        \n",
    "    def add_child(self, c):\n",
    "        if c in self.children.keys():\n",
    "            print(\"child already exists!\")\n",
    "            return self.children[c]\n",
    "        self.children[c] = Node(c, self, self.depth+1)\n",
    "        return self.children[c]\n",
    "    \n",
    "    def find(self, word: list):\n",
    "        \"\"\" find word in a trie of which self is root \"\"\"\n",
    "        if len(word) == 0:\n",
    "            return True\n",
    "        if self.child(word[0]) is None:\n",
    "            return False\n",
    "        return self.child(word[0]).find(word[1:])\n",
    "    \n",
    "    def next_idx(self):  \n",
    "        \"\"\" finding unique idx for each node (idx of last-added node = size of trie-1)\n",
    "        (unless several tries created at once)\"\"\"\n",
    "        if not self.parent:\n",
    "            Node.idx = -1\n",
    "        Node.idx += 1\n",
    "        return Node.idx\n",
    "    \n",
    "    def __repr__(self):\n",
    "        return f\"{self.c}-{self.idx}\""
   ]
  },
  {
   "cell_type": "markdown",
   "metadata": {},
   "source": [
    "#### Suffix Trie implementation"
   ]
  },
  {
   "cell_type": "code",
   "execution_count": 3,
   "metadata": {},
   "outputs": [],
   "source": [
    "from queue import LifoQueue as queue \n",
    "\n",
    "def up_link_down(sibling):\n",
    "    letters = queue()\n",
    "    while(sibling and not sibling.link):\n",
    "        letters.put(sibling.c)\n",
    "        sibling=sibling.parent\n",
    "    if(not sibling):\n",
    "        return(None,None)\n",
    "    node=sibling.link\n",
    "    current_letter=letters.get()\n",
    "    while(current_letter):\n",
    "        if(node.child(current_letter)):\n",
    "            node=node.child(current_letter)\n",
    "            sibling=sibling.child(current_letter)\n",
    "            sibling.link = node\n",
    "        else:\n",
    "            break\n",
    "        current_letter=letters.get()\n",
    "    return(node,sibling)\n",
    "\n",
    "def graft(node, fragment, sibling=None):\n",
    "#     print(f\"adding fragment length {len(fragment)}, {fragment}\")\n",
    "    for letter in list(fragment):\n",
    "        node = node.add_child(letter)\n",
    "        if(sibling):\n",
    "            sibling=sibling.child(letter)\n",
    "            sibling.link = node\n",
    "    return node\n",
    "\n",
    "\"\"\" building trie \"\"\"\n",
    "def left_to_right(text):\n",
    "    root = Node(\"\")\n",
    "    leaf = graft(root, text)\n",
    "    root.child(text[0]).link = root\n",
    "    for i in range(1, len(text)):\n",
    "        head, sibling = up_link_down(leaf)\n",
    "        leaf = graft(head,text[i+head.depth:],sibling)\n",
    "        root.child(text[i]).link = root # experimental\n",
    "    return root\n"
   ]
  },
  {
   "cell_type": "markdown",
   "metadata": {},
   "source": [
    "#### Suffix Trie checker"
   ]
  },
  {
   "cell_type": "code",
   "execution_count": 4,
   "metadata": {},
   "outputs": [],
   "source": [
    "def check(trie, text, w_print=False):\n",
    "    \"\"\" check if trie contains all suffixes from text\n",
    "    @w_print: print results instead of returning value \"\"\"\n",
    "    for i in range(len(text)):\n",
    "        if not trie.find(text[i:]):\n",
    "            if w_print:\n",
    "                print(f\"suffix {text[i:]} not found\")\n",
    "                return\n",
    "            else:\n",
    "                return False\n",
    "    if w_print:\n",
    "        print(f\"trie correct\\n{Node.idx+1} nodes created\")\n",
    "    else:\n",
    "        return True"
   ]
  },
  {
   "cell_type": "markdown",
   "metadata": {},
   "source": [
    "#### Tests"
   ]
  },
  {
   "cell_type": "code",
   "execution_count": 16,
   "metadata": {},
   "outputs": [
    {
     "name": "stdout",
     "output_type": "stream",
     "text": [
      "trie correct\n",
      "8 nodes created\n",
      "trie correct\n",
      "24 nodes created\n",
      "trie correct\n",
      "19 nodes created\n"
     ]
    }
   ],
   "source": [
    "text = \"bbbd\"\n",
    "trie = left_to_right(text)\n",
    "check(trie, text, True)\n",
    "\n",
    "text = \"aabbabd\"\n",
    "trie = left_to_right(text)\n",
    "check(trie, text, True)\n",
    "\n",
    "text = \"ababcd\"\n",
    "trie = left_to_right(text)\n",
    "check(trie, text, True)"
   ]
  },
  {
   "cell_type": "markdown",
   "metadata": {},
   "source": [
    "<a id='tree'></a>\n",
    "## --Suffix Tree--"
   ]
  },
  {
   "cell_type": "code",
   "execution_count": null,
   "metadata": {},
   "outputs": [],
   "source": []
  },
  {
   "cell_type": "markdown",
   "metadata": {},
   "source": [
    "<a id='tests'></a>\n",
    "## --Comparison--"
   ]
  },
  {
   "cell_type": "markdown",
   "metadata": {},
   "source": [
    "#### Running time evaluation"
   ]
  },
  {
   "cell_type": "code",
   "execution_count": 28,
   "metadata": {},
   "outputs": [],
   "source": [
    "from time import perf_counter\n",
    "def time_eval(func, args, w_print=False, name=None, count=5):\n",
    "    start = perf_counter()\n",
    "    for i in range(count):\n",
    "        func(*args)\n",
    "    end = perf_counter()\n",
    "    avg = (end-start)/count\n",
    "    if w_print:\n",
    "        print(f\"{name} average time: {avg}\")\n",
    "    else:\n",
    "        return avg "
   ]
  },
  {
   "cell_type": "code",
   "execution_count": 27,
   "metadata": {},
   "outputs": [
    {
     "name": "stdout",
     "output_type": "stream",
     "text": [
      "trie correct\n",
      "8 nodes created\n",
      "Trie avreage time: 0.00014986000001044887\n"
     ]
    }
   ],
   "source": [
    "text = \"bbbd\"\n",
    "trie = left_to_right(text)\n",
    "check(trie, text, True)\n",
    "time_eval(left_to_right, [text], True, \"Trie\")"
   ]
  },
  {
   "cell_type": "code",
   "execution_count": 6,
   "metadata": {},
   "outputs": [
    {
     "name": "stdout",
     "output_type": "stream",
     "text": [
      "trie correct\n",
      "24 nodes created\n"
     ]
    }
   ],
   "source": [
    "text = \"aabbabd\"\n",
    "trie = left_to_right(text)\n",
    "check(trie, text, True)"
   ]
  },
  {
   "cell_type": "code",
   "execution_count": 7,
   "metadata": {},
   "outputs": [
    {
     "data": {
      "text/plain": [
       "True"
      ]
     },
     "execution_count": 7,
     "metadata": {},
     "output_type": "execute_result"
    }
   ],
   "source": [
    "text = \"ababcd\"\n",
    "trie = left_to_right(text)\n",
    "check(trie, text)"
   ]
  },
  {
   "cell_type": "code",
   "execution_count": 8,
   "metadata": {},
   "outputs": [
    {
     "data": {
      "text/plain": [
       "True"
      ]
     },
     "execution_count": 8,
     "metadata": {},
     "output_type": "execute_result"
    }
   ],
   "source": [
    "text = \"abcbccd\"\n",
    "trie = left_to_right(text)\n",
    "check(trie, text)\n"
   ]
  },
  {
   "cell_type": "code",
   "execution_count": 10,
   "metadata": {},
   "outputs": [
    {
     "name": "stdout",
     "output_type": "stream",
     "text": [
      "trie correct\n",
      "474636 nodes created\n"
     ]
    }
   ],
   "source": [
    "f = open(\"1997_714.txt\", \"r\", encoding='utf-8')\n",
    "text = ''.join(f.readlines())\n",
    "text = text[:1000]\n",
    "text += chr(27)\n",
    "trie = left_to_right(text)\n",
    "check(trie, text, True)"
   ]
  }
 ],
 "metadata": {
  "kernelspec": {
   "display_name": "Python 3",
   "language": "python",
   "name": "python3"
  },
  "language_info": {
   "codemirror_mode": {
    "name": "ipython",
    "version": 3
   },
   "file_extension": ".py",
   "mimetype": "text/x-python",
   "name": "python",
   "nbconvert_exporter": "python",
   "pygments_lexer": "ipython3",
   "version": "3.7.4"
  }
 },
 "nbformat": 4,
 "nbformat_minor": 2
}
